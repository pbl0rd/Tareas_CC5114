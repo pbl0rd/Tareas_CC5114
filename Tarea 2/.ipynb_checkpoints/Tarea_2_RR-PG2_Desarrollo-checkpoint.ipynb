{
 "cells": [
  {
   "cell_type": "markdown",
   "metadata": {},
   "source": [
    "# Definimos una clase para el algoritmo genético\n",
    "### Inputs:\n",
    "- pop_sz_0: Tamaño de la población inicial (Número de individuos que debe contener la población inicial)\n",
    "- fit_fn: Función de fitness del algoritmo que permite asignar un valor a un individuo sobre la base de que tan bien cumple con el objetivo.\n",
    "- cr_genes: Función para generar genes\n",
    "- cr_indv: Función para generar individuos\n",
    "- mut_rate: Tasa de mutación\n",
    "- term_cond: Condición de terminación del algoritmo.\n"
   ]
  },
  {
   "cell_type": "code",
   "execution_count": null,
   "metadata": {
    "collapsed": true
   },
   "outputs": [],
   "source": [
    "def gene_generator(gene_type, fact_range=None):\n",
    "    if fact_range is None:\n",
    "        gene = \n",
    "        return"
   ]
  },
  {
   "cell_type": "code",
   "execution_count": 14,
   "metadata": {
    "collapsed": true
   },
   "outputs": [],
   "source": [
    "class GENALG(object):\n",
    "    # Método inicializador para la clase algoritmo genético \n",
    "\n",
    "    def __init__(self, pop_sz_0: int, fit_fn, cr_genes, cr_indv, mut_rate, term_cond, indv_chars, random_state=42):\n",
    "        # Verificamos que los parámetros de entrada del constructor sean los correctos\n",
    "        if type(pop_sz_0) != int:\n",
    "            raise ValueError(\"Input n_weights debe ser un número entero positivo\")        \n",
    "        self.__pop_sz = pop_sz_0\n",
    "        self.__pop = None\n",
    "        self.__pop_fitness = None\n",
    "        self.__max_fitness = None\n",
    "        self.__mean_fitness = None\n",
    "        self.__min_fitness = None\n",
    "        self.__fittest_indv = None\n",
    "        self.__fit_fn = fit_fn\n",
    "        self.__cr_genes = cr_genes\n",
    "        self.__cr_indv = cr_indv\n",
    "        self.__indv_chars = indv_chars\n",
    "        self.__mut_rate = mut_rate\n",
    "        self.__term_cond = term_cond\n",
    "\n",
    "    # Métodos get para obtener los atributos del algoritmo genético.\n",
    "\n",
    "    # Función para obtener el tamaño de la población\n",
    "    def get_pop_sz(self):\n",
    "        return self.__pop_sz\n",
    "    \n",
    "    # Función para obtener la población\n",
    "    def get_pop(self):\n",
    "        if self.__pop is None:\n",
    "            raise ValueError(\"la población no ha sido creada\")\n",
    "        else:\n",
    "            return self.__pop\n",
    "    \n",
    "    # Función para obtener la tasa de mutación\n",
    "    def get_mut_rate(self):\n",
    "        return self.__mut_rate\n",
    "   \n",
    "    # Función para obtener condición de terminación\n",
    "    def get_term_cond(self):\n",
    "        return self.__term_cond    \n",
    "\n",
    "    # Función para obtener la función de fitness del algoritmo\n",
    "    def get_fit_fn(self):\n",
    "        return self.__fit_fn\n",
    "\n",
    "    # Función para obtener la función de creación de genes del algoritmo\n",
    "    def get_cr_genes(self):\n",
    "        return self.__cr_genes\n",
    "    \n",
    "    # Función para obtener la función de creación de individuos del algoritmo\n",
    "    def get_cr_indv(self):\n",
    "        return self.__cr_indv    \n",
    "           \n",
    "            \n",
    "    # Función para generar la población inicial\n",
    "    def gen_pop(self):\n",
    "        pop = {}\n",
    "        for i in range(self.__pop_sz):\n",
    "            pop[i] = self.__cr_indv(self.__cr_genes, indv_chars)\n",
    "        self.__pop = pop\n",
    "\n",
    "    def comp_pop_fitness(self, fit_params):   \n",
    "        pop_fitness = {}\n",
    "        max_fitness = -np.inf\n",
    "        min_fitness = np.inf\n",
    "        fittest_indv = None\n",
    "        for i in range(self.__pop_sz):\n",
    "            fitness = self.__fit_fn(self.__pop[i], fit_params)\n",
    "            if fitness > max_fitness:\n",
    "                max_fitness = fitness\n",
    "                fittest_indv = self.__pop[i]\n",
    "            if fitness < min_fitness:\n",
    "                min_fitness = fitness\n",
    "            pop_fitness[i] = fitness\n",
    "        mean_fitness = np.mean(list(pop_fitness.values()))\n",
    "        self.__pop_fitness = pop_fitness\n",
    "        self.__max_fitness = max_fitness\n",
    "        self.__min_fitness = min_fitness\n",
    "        self.__mean_fitness = mean_fitness\n",
    "        self.__fittest_indv = fittest_indv\n",
    "    \n",
    "    def tournament_sel(self, slots):\n",
    "        if slots > self.__pop_sz:\n",
    "            \n",
    "        chosen_set = np.random.randint(0, self.__pop_sz, slots)\n",
    "        chosen_set_fitness = [self._pop_fitness[i] for i in chosen_set]\n",
    "        max_set_fitness = max(chosen_set_fitness)        \n",
    "        aux_dict = dict(zip(chosen_set_fitness, chosen_set))\n",
    "        winner = aux_dict[max_set_fitness]\n",
    "        return self.__pop[winner]\n",
    "    \n",
    "    def crossover(self, indv1, indv2):\n",
    "        vals1 = list(indv1.values())\n",
    "        vals2 = list(indv2.values())\n",
    "        num_genes = len(vals1)\n",
    "        cut = np.random.randint(1,num_genes)\n",
    "        new_vals = vals1[:cut] + vals2[cut:]\n",
    "        keys = list(indv1.keys())\n",
    "        new_ind = dict(zip(keys, new_vals))\n",
    "        return new_ind\n",
    "    \n",
    "    def mutation(self, indv):\n",
    "        vals = list(indv.values())\n",
    "        num_genes = len(vals)\n",
    "        new_vals = []\n",
    "        for i in range(num_genes):            \n",
    "            if np.random.rand() > self.__mut_rate:\n",
    "                new_vals.append(vals[i])\n",
    "            else:\n",
    "                new_val = self.__cr_genes(self.__indv_chars[i])\n",
    "                new_vals.append(new_val)\n",
    "        keys = list(indv.keys())\n",
    "        new_ind = dict(zip(keys, new_vals))\n",
    "        return new_ind\n",
    "    \n",
    "    def apply(fit_params,):\n",
    "        np.random.seed(random_state)\n",
    "        self.gen_pop()\n",
    "        self.comp_pop_fitness()\n",
    "        generations = {}        \n",
    "        iters = 0\n",
    "        goal_cross = -1\n",
    "        overall_max_fitness = self.__max_fitness\n",
    "        overall_fittest_indv = self.__fittest_indv\n",
    "        generations[iters] = {}\n",
    "        generations[iters]['max_fitness'] = self.__max_fitness\n",
    "        generations[iters]['min_fitness'] = self.__min_fitness\n",
    "        generations[iters]['mean_fitness'] = self.__mean_fitness\n",
    "        if self.__max_fitness >= self.__term_cond['max_fitness'] and goal_cross == -1:\n",
    "            goal_cross = iters\n",
    "        while iters < self.__term_cond['iters']:\n",
    "            new_pop = {}\n",
    "            for i in range(self.__pop_sz):\n",
    "                parent_1 = self.tournament_sel()\n",
    "                parent_2 = self.tournament_sel()\n",
    "                child = self.crossover(parent_1, parent_2)\n",
    "                mut_child = self.mutation(child)\n",
    "                new_pop[i] = mut_child\n",
    "            self.__pop = new_pop.copy()\n",
    "            self.comp_pop_fitness()\n",
    "            iters += 1\n",
    "            generations[iters]['max_fitness'] = self.__max_fitness\n",
    "            generations[iters]['min_fitness'] = self.__min_fitness\n",
    "            generations[iters]['mean_fitness'] = self.__mean_fitness\n",
    "            if self.__max_fitness > overall_max_fitness:\n",
    "                overall_max_fitness = self.__max_fitness\n",
    "                overall_fittest_indv = self.__fittest_indv                \n",
    "            if self.__max_fitness >= self.__term_cond['max_fitness'] and goal_cross == -1:\n",
    "                goal_cross = iters\n",
    "        return generations, goal_cross, overall_max_fitness, overall_fittest_indv\n",
    "    \n",
    "    "
   ]
  },
  {
   "cell_type": "code",
   "execution_count": 2,
   "metadata": {},
   "outputs": [
    {
     "data": {
      "text/plain": [
       "NoneType"
      ]
     },
     "execution_count": 2,
     "metadata": {},
     "output_type": "execute_result"
    }
   ],
   "source": [
    "type(None)"
   ]
  },
  {
   "cell_type": "code",
   "execution_count": 6,
   "metadata": {
    "collapsed": true
   },
   "outputs": [],
   "source": [
    "import numpy as np\n",
    "np.random.seed(0)\n",
    "def f_1():\n",
    "    return np.random.rand()"
   ]
  },
  {
   "cell_type": "code",
   "execution_count": 7,
   "metadata": {},
   "outputs": [
    {
     "data": {
      "text/plain": [
       "0.5488135039273248"
      ]
     },
     "execution_count": 7,
     "metadata": {},
     "output_type": "execute_result"
    }
   ],
   "source": [
    "f_1()"
   ]
  },
  {
   "cell_type": "code",
   "execution_count": 8,
   "metadata": {},
   "outputs": [
    {
     "data": {
      "text/plain": [
       "0.7151893663724195"
      ]
     },
     "execution_count": 8,
     "metadata": {},
     "output_type": "execute_result"
    }
   ],
   "source": [
    "f_1()"
   ]
  },
  {
   "cell_type": "code",
   "execution_count": 9,
   "metadata": {
    "collapsed": true
   },
   "outputs": [],
   "source": [
    "a = None"
   ]
  },
  {
   "cell_type": "code",
   "execution_count": 10,
   "metadata": {},
   "outputs": [
    {
     "data": {
      "text/plain": [
       "True"
      ]
     },
     "execution_count": 10,
     "metadata": {},
     "output_type": "execute_result"
    }
   ],
   "source": [
    "a is None"
   ]
  },
  {
   "cell_type": "code",
   "execution_count": 11,
   "metadata": {},
   "outputs": [
    {
     "data": {
      "text/plain": [
       "inf"
      ]
     },
     "execution_count": 11,
     "metadata": {},
     "output_type": "execute_result"
    }
   ],
   "source": [
    "np.inf"
   ]
  },
  {
   "cell_type": "code",
   "execution_count": 12,
   "metadata": {},
   "outputs": [
    {
     "data": {
      "text/plain": [
       "True"
      ]
     },
     "execution_count": 12,
     "metadata": {},
     "output_type": "execute_result"
    }
   ],
   "source": [
    "3>-np.inf"
   ]
  },
  {
   "cell_type": "code",
   "execution_count": 21,
   "metadata": {},
   "outputs": [
    {
     "data": {
      "text/plain": [
       "array([88, 12, 58, 65, 39])"
      ]
     },
     "execution_count": 21,
     "metadata": {},
     "output_type": "execute_result"
    }
   ],
   "source": [
    "np.random.randint(0, 100,5)"
   ]
  },
  {
   "cell_type": "code",
   "execution_count": 1,
   "metadata": {
    "collapsed": true
   },
   "outputs": [],
   "source": [
    "a= {0:10,1:20}"
   ]
  },
  {
   "cell_type": "code",
   "execution_count": 4,
   "metadata": {},
   "outputs": [
    {
     "data": {
      "text/plain": [
       "[10, 20]"
      ]
     },
     "execution_count": 4,
     "metadata": {},
     "output_type": "execute_result"
    }
   ],
   "source": [
    "list(a.values())\n"
   ]
  },
  {
   "cell_type": "code",
   "execution_count": 2,
   "metadata": {
    "collapsed": true
   },
   "outputs": [],
   "source": [
    "import numpy as np"
   ]
  },
  {
   "cell_type": "code",
   "execution_count": 4,
   "metadata": {},
   "outputs": [
    {
     "data": {
      "text/plain": [
       "0.9555942358385284"
      ]
     },
     "execution_count": 4,
     "metadata": {},
     "output_type": "execute_result"
    }
   ],
   "source": [
    "np.random.rand()"
   ]
  },
  {
   "cell_type": "code",
   "execution_count": 8,
   "metadata": {
    "collapsed": true
   },
   "outputs": [],
   "source": [
    "a=[1,2,3,4]"
   ]
  },
  {
   "cell_type": "code",
   "execution_count": 9,
   "metadata": {},
   "outputs": [
    {
     "data": {
      "text/plain": [
       "2.5"
      ]
     },
     "execution_count": 9,
     "metadata": {},
     "output_type": "execute_result"
    }
   ],
   "source": [
    "np.mean(a)"
   ]
  },
  {
   "cell_type": "code",
   "execution_count": null,
   "metadata": {
    "collapsed": true
   },
   "outputs": [],
   "source": []
  }
 ],
 "metadata": {
  "kernelspec": {
   "display_name": "Python 3",
   "language": "python",
   "name": "python3"
  },
  "language_info": {
   "codemirror_mode": {
    "name": "ipython",
    "version": 3
   },
   "file_extension": ".py",
   "mimetype": "text/x-python",
   "name": "python",
   "nbconvert_exporter": "python",
   "pygments_lexer": "ipython3",
   "version": "3.6.3"
  }
 },
 "nbformat": 4,
 "nbformat_minor": 2
}
