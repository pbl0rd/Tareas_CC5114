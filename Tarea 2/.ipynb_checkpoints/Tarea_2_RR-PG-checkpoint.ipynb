{
 "cells": [
  {
   "cell_type": "markdown",
   "metadata": {},
   "source": [
    "# Definimos una clase para el algoritmo genético\n",
    "### Inputs:\n",
    "- pop_sz_0: Tamaño de la población inicial (Número de individuos que debe contener la población inicial)\n",
    "- fit_fn: Función de fitness del algoritmo que permite asignar un valor a un individuo sobre la base de que tan bien cumple con el objetivo.\n",
    "- cr_genes: Función para generar genes\n",
    "- cr_indv: Función para generar individuos\n",
    "- mut_rate: Tasa de mutación\n",
    "- term_cond: Condición de terminación del algoritmo.\n"
   ]
  },
  {
   "cell_type": "code",
   "execution_count": null,
   "metadata": {
    "collapsed": true
   },
   "outputs": [],
   "source": [
    "def gene_generator(gene_type, fact_range=None):\n",
    "    if fact_range is None:\n",
    "        gene = \n",
    "        return"
   ]
  },
  {
   "cell_type": "code",
   "execution_count": 1,
   "metadata": {},
   "outputs": [
    {
     "ename": "SyntaxError",
     "evalue": "unexpected EOF while parsing (<ipython-input-1-cfd0198717c8>, line 1)",
     "output_type": "error",
     "traceback": [
      "\u001b[1;36m  File \u001b[1;32m\"<ipython-input-1-cfd0198717c8>\"\u001b[1;36m, line \u001b[1;32m1\u001b[0m\n\u001b[1;33m    class GENALG(pop_sz_0, fit_fn, cr_genes, mut_rate, term_cond):\u001b[0m\n\u001b[1;37m                                                                  ^\u001b[0m\n\u001b[1;31mSyntaxError\u001b[0m\u001b[1;31m:\u001b[0m unexpected EOF while parsing\n"
     ]
    }
   ],
   "source": [
    "class GENALG(pop_sz_0, fit_fn, cr_genes, mut_rate, term_cond):\n",
    "    # Método inicializador para la clase algoritmo genético \n",
    "\n",
    "    def __init__(self, pop_sz_0: int, fit_fn, cr_genes, cr_indv, mut_rate, term_cond, indv_chars, random_state=42):\n",
    "        # Verificamos que los parámetros de entrada del constructor sean los correctos\n",
    "        if type(pop_sz_0) != int:\n",
    "            raise ValueError(\"Input n_weights debe ser un número entero positivo\")        \n",
    "        self.__pop_sz = pop_sz_0\n",
    "        self.__pop = None\n",
    "        self.__pop_fitness = None\n",
    "        self.__max_fitness = None\n",
    "        self.__fittest_indv = None\n",
    "        self.__fit_fn = fit_fn\n",
    "        self.__cr_genes = cr_genes\n",
    "        self.__cr_indv = cr_indv\n",
    "        self.__indv_chars = indv_chars\n",
    "        self.__mut_rate = mut_rate\n",
    "        self.__term_cond = term_cond\n",
    "\n",
    "    # Métodos get para obtener los atributos del algoritmo genético.\n",
    "\n",
    "    # Función para obtener el tamaño de la población\n",
    "    def get_pop_SZ(self):\n",
    "        return self.__pop_sz\n",
    "    \n",
    "    # Función para obtener la población\n",
    "    def get_pop(self):\n",
    "        if self.__pop is None:\n",
    "            raise ValueError(\"la población no ha sido creada\")\n",
    "        else:\n",
    "            return self.__pop\n",
    "    \n",
    "    # Función para obtener la tasa de mutación\n",
    "    def get_mut_rate(self):\n",
    "        return self.__mut_rate\n",
    "   \n",
    "    # Función para obtener condición de terminación\n",
    "    def get_term_cond(self):\n",
    "        return self.__term_cond    \n",
    "\n",
    "    # Función para obtener la función de fitness del algoritmo\n",
    "    def get_fit_fn(self):\n",
    "        return self.__fit_fn\n",
    "\n",
    "    # Función para obtener la función de creación de genes del algoritmo\n",
    "    def get_cr_genes(self):\n",
    "        return self.__cr_genes\n",
    "    \n",
    "    # Función para obtener la función de creación de individuos del algoritmo\n",
    "    def get_cr_indv(self):\n",
    "        return self.__cr_indv\n",
    "    \n",
    "    \n",
    "    # Métodos set para fijar nuevos valores para los atributos de la Neurona.\n",
    "\n",
    "    \n",
    "    # Función para modificar el sesgo de la neurona. Recibe un float con el nuevo sesgo\n",
    "    def set_bias(self, bias: float):\n",
    "        if type(bias) not in [float, np.float64]:\n",
    "            raise ValueError(\"El sesgo bias debe ser un float\")\n",
    "        else:\n",
    "            self.__bias = bias\n",
    "\n",
    "    # Función para modificar la función de activación de la neurona. Recibe Step(), Sigmoid() o bien, Tanh() como\n",
    "    # entrada\n",
    "    def set_acfunction(self, ac_function):\n",
    "        if type(ac_function) != Step and type(ac_function) != Sigmoid and type(ac_function) != Tanh:\n",
    "            raise ValueError(\"La función de activación debe ser Step(), Sigmoid() o bien, Tanh()\")\n",
    "        else:\n",
    "            self.__acfunction = ac_function\n",
    "\n",
    "    # Función para modificar la tasa de aprendizaje de la neurona. Recibe un float con la nueva tasa de aprendizaje\n",
    "    def set_lrate(self, l_rate: float):\n",
    "        if type(l_rate) != float:\n",
    "            raise ValueError(\"La tasa de aprendizaje lr debe ser un float\")\n",
    "        else:\n",
    "            self.__lrate = l_rate\n",
    "            \n",
    "            \n",
    "    # Función para generar la población inicial\n",
    "    def gen_pop(self):\n",
    "        pop = {}\n",
    "        for i in range(self.__pop_sz):\n",
    "            pop[i] = self.__cr_indv(self.__cr_genes, indv_chars)\n",
    "        self.__pop = pop\n",
    "\n",
    "    def comp_pop_fitness(self):   \n",
    "        pop_fitness = {}\n",
    "        max_fitness = -np.inf\n",
    "        fittest_indv = None\n",
    "        for i in range(self.__pop_sz):\n",
    "            fitness = self.__fit_fn(self.__pop[i])\n",
    "            if fitness > max_fitness:\n",
    "                max_fitness = fitness\n",
    "                fittest_indv = self.__pop[i]\n",
    "            pop_fitness[i] = fitness\n",
    "        self.__pop_fitness = pop_fitness\n",
    "        self.__max_fitness = max_fitness\n",
    "        self.__fittest_indv = fittest_indv\n",
    "    \n",
    "    def tournament_sel(self):\n",
    "        chosen_set = np.random.randint(0, self.__pop_sz, 5)\n",
    "        chosen_set_fitness = [self._pop_fitness[i] fot i in chosen_set]\n",
    "        max_set_fitness = max(chosen_set_fitness)        \n",
    "        aux_dict = dict(zip(chosen_set_fitness, chosen_set))\n",
    "        winner = aux_dict[max_set_fitness]\n",
    "        return self.__pop[winner]\n",
    "    \n",
    "    def crossover(self, indv1, indv2):\n",
    "        num_genes = self._indv\n",
    "            \n",
    "\n",
    "    # Método para alimentar a la neurona con un arreglo de inputs (x)\n",
    "    # del mismo tamaño que el arreglo (weights) y retornar la respuesta\n",
    "    # de la Neurona.\n",
    "    \n",
    "    \n",
    "    def feed(self, x: np.ndarray):\n",
    "        if type(x) not in [list, np.ndarray]:\n",
    "            raise ValueError(\"el input x debe ser un arreglo de floats\")\n",
    "        elif len(x) != self.__length:\n",
    "            raise ValueError(\"Largo del arreglo incorrecto\")\n",
    "        else:\n",
    "            for i in range(self.__length):\n",
    "                if type(x[i]) not in [float, np.float64]:\n",
    "                    raise ValueError(\"cada input del arreglo debe ser un float\")\n",
    "            val = np.dot(x, self.__weights) + self.__bias\n",
    "            res = self.__acfunction.apply(val)\n",
    "            return res\n",
    "\n",
    "    # Método para entrenar a la neurona. Recibe con un arreglo de inputs (x)\n",
    "    # del mismo tamaño que el arreglo (weights) y un float con la respuesta esperada. Realiza\n",
    "    # el proceso de actualizar los pesos y bias en base al ejemplo entregado.\n",
    "    def train(self, x: np.ndarray, answer: float):\n",
    "        if type(answer) not in [int, float]:\n",
    "            raise ValueError(\"La salida esperada answer debe ser un número\")\n",
    "        elif type(x) not in [list, np.ndarray]:\n",
    "            raise ValueError(\"el input x debe ser un arreglo de floats\")\n",
    "        elif len(x) != self.__length:\n",
    "            raise ValueError(\"Largo del arreglo incorrecto\")\n",
    "        else:\n",
    "            for i in range(self.__length):\n",
    "                if type(x[i]) != float:\n",
    "                    raise ValueError(\"cada input del arreglo debe ser un float\")\n",
    "            old_w = self.get_weights()\n",
    "            res = self.feed(x)  # obtenemos la salida de la neurona\n",
    "            diff = float(answer) - res  # calculamos el error\n",
    "            l_rate = self.__lrate\n",
    "            old_b = self.__bias\n",
    "            # Calculamos delta dependiendo del tipo de función de activación de la neurona\n",
    "            if self.__acfunction == Step():\n",
    "                delta = diff\n",
    "            else:\n",
    "                delta = diff * self.__acfunction.derivative(res)\n",
    "            new_w = []  # Arreglo donde guardaremos los nuevos pesos\n",
    "            # Calculamos los nuevos pesos\n",
    "            for i in range(self.__length):\n",
    "                new_w.append(old_w[i] + l_rate * x[i] * delta)\n",
    "            self.set_weights(np.array(new_w))  # Actualizamos los pesos\n",
    "            new_b = old_b + l_rate * delta  # Calculamos el nuevo sesgo\n",
    "            self.set_bias(new_b)  # Actualizamos el sesgo\n",
    "    "
   ]
  },
  {
   "cell_type": "code",
   "execution_count": 2,
   "metadata": {},
   "outputs": [
    {
     "data": {
      "text/plain": [
       "NoneType"
      ]
     },
     "execution_count": 2,
     "metadata": {},
     "output_type": "execute_result"
    }
   ],
   "source": [
    "type(None)"
   ]
  },
  {
   "cell_type": "code",
   "execution_count": 6,
   "metadata": {
    "collapsed": true
   },
   "outputs": [],
   "source": [
    "import numpy as np\n",
    "np.random.seed(0)\n",
    "def f_1():\n",
    "    return np.random.rand()"
   ]
  },
  {
   "cell_type": "code",
   "execution_count": 7,
   "metadata": {},
   "outputs": [
    {
     "data": {
      "text/plain": [
       "0.5488135039273248"
      ]
     },
     "execution_count": 7,
     "metadata": {},
     "output_type": "execute_result"
    }
   ],
   "source": [
    "f_1()"
   ]
  },
  {
   "cell_type": "code",
   "execution_count": 8,
   "metadata": {},
   "outputs": [
    {
     "data": {
      "text/plain": [
       "0.7151893663724195"
      ]
     },
     "execution_count": 8,
     "metadata": {},
     "output_type": "execute_result"
    }
   ],
   "source": [
    "f_1()"
   ]
  },
  {
   "cell_type": "code",
   "execution_count": 9,
   "metadata": {
    "collapsed": true
   },
   "outputs": [],
   "source": [
    "a = None"
   ]
  },
  {
   "cell_type": "code",
   "execution_count": 10,
   "metadata": {},
   "outputs": [
    {
     "data": {
      "text/plain": [
       "True"
      ]
     },
     "execution_count": 10,
     "metadata": {},
     "output_type": "execute_result"
    }
   ],
   "source": [
    "a is None"
   ]
  },
  {
   "cell_type": "code",
   "execution_count": 11,
   "metadata": {},
   "outputs": [
    {
     "data": {
      "text/plain": [
       "inf"
      ]
     },
     "execution_count": 11,
     "metadata": {},
     "output_type": "execute_result"
    }
   ],
   "source": [
    "np.inf"
   ]
  },
  {
   "cell_type": "code",
   "execution_count": 12,
   "metadata": {},
   "outputs": [
    {
     "data": {
      "text/plain": [
       "True"
      ]
     },
     "execution_count": 12,
     "metadata": {},
     "output_type": "execute_result"
    }
   ],
   "source": [
    "3>-np.inf"
   ]
  },
  {
   "cell_type": "code",
   "execution_count": 21,
   "metadata": {},
   "outputs": [
    {
     "data": {
      "text/plain": [
       "array([88, 12, 58, 65, 39])"
      ]
     },
     "execution_count": 21,
     "metadata": {},
     "output_type": "execute_result"
    }
   ],
   "source": [
    "np.random.randint(0, 100,5)"
   ]
  },
  {
   "cell_type": "code",
   "execution_count": null,
   "metadata": {
    "collapsed": true
   },
   "outputs": [],
   "source": []
  },
  {
   "cell_type": "code",
   "execution_count": null,
   "metadata": {
    "collapsed": true
   },
   "outputs": [],
   "source": []
  }
 ],
 "metadata": {
  "kernelspec": {
   "display_name": "Python 3",
   "language": "python",
   "name": "python3"
  },
  "language_info": {
   "codemirror_mode": {
    "name": "ipython",
    "version": 3
   },
   "file_extension": ".py",
   "mimetype": "text/x-python",
   "name": "python",
   "nbconvert_exporter": "python",
   "pygments_lexer": "ipython3",
   "version": "3.6.3"
  }
 },
 "nbformat": 4,
 "nbformat_minor": 2
}
