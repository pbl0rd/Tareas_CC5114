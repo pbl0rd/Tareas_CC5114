{
 "cells": [
  {
   "cell_type": "markdown",
   "metadata": {},
   "source": [
    "# Definimos una clase para el algoritmo genético\n",
    "### Inputs:\n",
    "- pop_sz_0: Tamaño de la población inicial (Número de individuos que debe contener la población inicial)\n",
    "- fit_fn: Función de fitness del algoritmo que permite asignar un valor a un individuo sobre la base de que tan bien cumple con el objetivo.\n",
    "- cr_genes: Función para generar genes\n",
    "- cr_indv: Función para generar individuos\n",
    "- mut_rate: Tasa de mutación\n",
    "- term_cond: Condición de terminación del algoritmo.\n"
   ]
  },
  {
   "cell_type": "code",
   "execution_count": 59,
   "metadata": {
    "collapsed": true
   },
   "outputs": [],
   "source": [
    "class GENALG(object):\n",
    "    # Método inicializador para la clase algoritmo genético \n",
    "\n",
    "    def __init__(self, pop_sz_0: int, fit_fn, cr_genes, cr_indv, mut_rate, term_cond, indv_chars):\n",
    "        # Verificamos que los parámetros de entrada del constructor sean los correctos\n",
    "        if type(pop_sz_0) != int:\n",
    "            raise ValueError(\"Input n_weights debe ser un número entero positivo\")        \n",
    "        self.__pop_sz = pop_sz_0\n",
    "        self.__pop = None\n",
    "        self.__pop_fitness = None\n",
    "        self.__max_fitness = None\n",
    "        self.__mean_fitness = None\n",
    "        self.__min_fitness = None\n",
    "        self.__fittest_indv = None\n",
    "        self.__fit_fn = fit_fn\n",
    "        self.__cr_genes = cr_genes\n",
    "        self.__cr_indv = cr_indv\n",
    "        self.__indv_chars = indv_chars\n",
    "        self.__mut_rate = mut_rate\n",
    "        self.__term_cond = term_cond\n",
    "\n",
    "    # Métodos get para obtener los atributos del algoritmo genético.\n",
    "\n",
    "    # Función para obtener el tamaño de la población\n",
    "    def get_pop_sz(self):\n",
    "        return self.__pop_sz\n",
    "    \n",
    "    # Función para obtener la población\n",
    "    def get_pop(self):\n",
    "        if self.__pop is None:\n",
    "            raise ValueError(\"la población no ha sido creada\")\n",
    "        else:\n",
    "            return self.__pop\n",
    "    \n",
    "    # Función para obtener la tasa de mutación\n",
    "    def get_mut_rate(self):\n",
    "        return self.__mut_rate\n",
    "   \n",
    "    # Función para obtener condición de terminación\n",
    "    def get_term_cond(self):\n",
    "        return self.__term_cond    \n",
    "\n",
    "    # Función para obtener la función de fitness del algoritmo\n",
    "    def get_fit_fn(self):\n",
    "        return self.__fit_fn\n",
    "\n",
    "    # Función para obtener la función de creación de genes del algoritmo\n",
    "    def get_cr_genes(self):\n",
    "        return self.__cr_genes\n",
    "    \n",
    "    # Función para obtener la función de creación de individuos del algoritmo\n",
    "    def get_cr_indv(self):\n",
    "        return self.__cr_indv    \n",
    "           \n",
    "            \n",
    "    # Función para generar la población inicial\n",
    "    def gen_pop(self):\n",
    "        pop = {}\n",
    "        for i in range(self.__pop_sz):\n",
    "            pop[i] = self.__cr_indv(self.__cr_genes, indv_chars)\n",
    "        self.__pop = pop\n",
    "\n",
    "    def comp_pop_fitness(self, fit_params):   \n",
    "        pop_fitness = {}\n",
    "        max_fitness = -np.inf\n",
    "        min_fitness = np.inf\n",
    "        fittest_indv = None\n",
    "        for i in range(self.__pop_sz):\n",
    "            fitness = self.__fit_fn(self.__pop[i], fit_params)\n",
    "            if fitness > max_fitness:\n",
    "                max_fitness = fitness\n",
    "                fittest_indv = self.__pop[i]\n",
    "            if fitness < min_fitness:\n",
    "                min_fitness = fitness\n",
    "            pop_fitness[i] = fitness\n",
    "        mean_fitness = np.mean(list(pop_fitness.values()))\n",
    "        self.__pop_fitness = pop_fitness\n",
    "        self.__max_fitness = max_fitness\n",
    "        self.__min_fitness = min_fitness\n",
    "        self.__mean_fitness = mean_fitness\n",
    "        self.__fittest_indv = fittest_indv\n",
    "    \n",
    "    def tournament_sel(self, slots):\n",
    "        if slots > self.__pop_sz:\n",
    "            raise ValueError(\"slots debe ser un número entero positivo menor que el tamaño de la población\")\n",
    "        else:\n",
    "            chosen_set = np.random.randint(0, self.__pop_sz, slots)\n",
    "            chosen_set_fitness = [self.__pop_fitness[i] for i in chosen_set]\n",
    "            max_set_fitness = max(chosen_set_fitness)        \n",
    "            aux_dict = dict(zip(chosen_set_fitness, chosen_set))\n",
    "            winner = aux_dict[max_set_fitness]\n",
    "            return self.__pop[winner]\n",
    "    \n",
    "    def crossover(self, indv1, indv2):\n",
    "        vals1 = list(indv1.values())\n",
    "        vals2 = list(indv2.values())\n",
    "        num_genes = len(vals1)\n",
    "        cut = np.random.randint(1,num_genes)\n",
    "        new_vals = vals1[:cut] + vals2[cut:]\n",
    "        keys = list(indv1.keys())\n",
    "        new_ind = dict(zip(keys, new_vals))\n",
    "        return new_ind\n",
    "    \n",
    "    def mutation(self, indv):\n",
    "        vals = list(indv.values())\n",
    "        num_genes = len(vals)\n",
    "        new_vals = []\n",
    "        for i in range(num_genes):            \n",
    "            if np.random.rand() > self.__mut_rate:\n",
    "                new_vals.append(vals[i])\n",
    "            else:\n",
    "                new_val = self.__cr_genes(self.__indv_chars[i]['gene_type'],self.__indv_chars[i]['fact_range'])\n",
    "                new_vals.append(new_val)\n",
    "        keys = list(indv.keys())\n",
    "        new_ind = dict(zip(keys, new_vals))\n",
    "        return new_ind\n",
    "    \n",
    "    def apply(self,fit_params, slots, random_state=42):\n",
    "        np.random.seed(random_state)\n",
    "        self.gen_pop()\n",
    "        self.comp_pop_fitness(fit_params)\n",
    "        generations = {}        \n",
    "        iters = 0\n",
    "        goal_cross = -1\n",
    "        overall_max_fitness = self.__max_fitness\n",
    "        overall_fittest_indv = self.__fittest_indv\n",
    "        generations[iters] = {}\n",
    "        generations[iters]['max_fitness'] = self.__max_fitness\n",
    "        generations[iters]['min_fitness'] = self.__min_fitness\n",
    "        generations[iters]['mean_fitness'] = self.__mean_fitness\n",
    "        if self.__max_fitness >= self.__term_cond['max_fitness'] and goal_cross == -1:\n",
    "            goal_cross = iters\n",
    "        while iters < self.__term_cond['iters']:\n",
    "            new_pop = {}\n",
    "            for i in range(self.__pop_sz):\n",
    "                parent_1 = self.tournament_sel(slots)\n",
    "                parent_2 = self.tournament_sel(slots)\n",
    "                child = self.crossover(parent_1, parent_2)\n",
    "                mut_child = self.mutation(child)\n",
    "                new_pop[i] = mut_child\n",
    "            self.__pop = new_pop.copy()\n",
    "            self.comp_pop_fitness(fit_params)\n",
    "            iters += 1\n",
    "            generations[iters] = {}\n",
    "            generations[iters]['max_fitness'] = self.__max_fitness\n",
    "            generations[iters]['min_fitness'] = self.__min_fitness\n",
    "            generations[iters]['mean_fitness'] = self.__mean_fitness\n",
    "            if self.__max_fitness > overall_max_fitness:\n",
    "                overall_max_fitness = self.__max_fitness\n",
    "                overall_fittest_indv = self.__fittest_indv                \n",
    "            if self.__max_fitness >= self.__term_cond['max_fitness'] and goal_cross == -1:\n",
    "                goal_cross = iters\n",
    "        return generations, goal_cross, overall_max_fitness, overall_fittest_indv\n",
    "    \n",
    "    "
   ]
  },
  {
   "cell_type": "code",
   "execution_count": 60,
   "metadata": {
    "collapsed": true
   },
   "outputs": [],
   "source": [
    "def gene_factory_ex1(gene_type, fact_range):\n",
    "    if fact_range != [0,1] or gene_type != 'binary':\n",
    "        raise ValueError(\"Parámetros incorrectos\")\n",
    "    else:\n",
    "        gene = np.random.choice(fact_range)\n",
    "        return gene\n",
    "\n",
    "def indv_factory(gene_factory, indv_chars):    \n",
    "    vals = list(indv_chars.values())\n",
    "    num_genes = len(vals)\n",
    "    new_indv = {}\n",
    "    for i in range(num_genes):\n",
    "        new_indv[i] = gene_factory(indv_chars[i]['gene_type'],indv_chars[i]['fact_range'])\n",
    "    return new_indv\n",
    "\n",
    "def fitness_ex1(indv, objective):\n",
    "    vals = list(indv.values())\n",
    "    vals_str = ''.join(str(i) for i in vals)\n",
    "    fitness = abs(int(objective, 2)-int(vals_str, 2))\n",
    "    return -fitness\n",
    "    \n",
    "    \n",
    "    \n",
    "    \n",
    "    \n",
    "    \n",
    "    "
   ]
  },
  {
   "cell_type": "code",
   "execution_count": 73,
   "metadata": {
    "collapsed": true
   },
   "outputs": [],
   "source": [
    "# Prueba ejercicio 1\n",
    "secuencia_bits = '00101010110101'\n",
    "pop_sz_0 = 40\n",
    "fit_fn = fitness_ex1 \n",
    "cr_genes = gene_factory_ex1\n",
    "cr_indv = indv_factory\n",
    "mut_rate = 0.1\n",
    "term_cond = {'max_fitness':0, 'iters':50} \n",
    "indv_chars = {}\n",
    "for i in range(len(secuencia_bits)):\n",
    "    aux_dict = {}\n",
    "    aux_dict['gene_type'] = 'binary'\n",
    "    aux_dict['fact_range'] = [0,1]\n",
    "    indv_chars[i] = aux_dict.copy()"
   ]
  },
  {
   "cell_type": "code",
   "execution_count": 74,
   "metadata": {
    "collapsed": true
   },
   "outputs": [],
   "source": [
    "GA = GENALG(pop_sz_0, fit_fn, cr_genes, cr_indv, mut_rate, term_cond, indv_chars)"
   ]
  },
  {
   "cell_type": "code",
   "execution_count": 75,
   "metadata": {},
   "outputs": [
    {
     "data": {
      "text/plain": [
       "({0: {'max_fitness': -166, 'mean_fitness': -7516.575, 'min_fitness': -13344},\n",
       "  1: {'max_fitness': -91, 'mean_fitness': -2969.2, 'min_fitness': -13501},\n",
       "  2: {'max_fitness': -81, 'mean_fitness': -1128.625, 'min_fitness': -8345},\n",
       "  3: {'max_fitness': -76, 'mean_fitness': -591.925, 'min_fitness': -8089},\n",
       "  4: {'max_fitness': -76, 'mean_fitness': -666.5, 'min_fitness': -8272},\n",
       "  5: {'max_fitness': -75, 'mean_fitness': -355.1, 'min_fitness': -4209},\n",
       "  6: {'max_fitness': -75, 'mean_fitness': -1250.075, 'min_fitness': -12496},\n",
       "  7: {'max_fitness': -75, 'mean_fitness': -917.625, 'min_fitness': -8270},\n",
       "  8: {'max_fitness': -76, 'mean_fitness': -394.125, 'min_fitness': -3660},\n",
       "  9: {'max_fitness': -75, 'mean_fitness': -742.175, 'min_fitness': -8331},\n",
       "  10: {'max_fitness': -75, 'mean_fitness': -1374.6, 'min_fitness': -8300},\n",
       "  11: {'max_fitness': -75, 'mean_fitness': -642.3, 'min_fitness': -8267},\n",
       "  12: {'max_fitness': -75, 'mean_fitness': -528.95, 'min_fitness': -8331},\n",
       "  13: {'max_fitness': -75, 'mean_fitness': -1466.6, 'min_fitness': -8395},\n",
       "  14: {'max_fitness': -75, 'mean_fitness': -1082.975, 'min_fitness': -8271},\n",
       "  15: {'max_fitness': -75, 'mean_fitness': -675.225, 'min_fitness': -8276},\n",
       "  16: {'max_fitness': -75, 'mean_fitness': -530.65, 'min_fitness': -4187},\n",
       "  17: {'max_fitness': -75, 'mean_fitness': -937.1, 'min_fitness': -8268},\n",
       "  18: {'max_fitness': -53, 'mean_fitness': -879.325, 'min_fitness': -9291},\n",
       "  19: {'max_fitness': -53, 'mean_fitness': -541.275, 'min_fitness': -4179},\n",
       "  20: {'max_fitness': -52, 'mean_fitness': -751.225, 'min_fitness': -8315},\n",
       "  21: {'max_fitness': -11, 'mean_fitness': -376.775, 'min_fitness': -4179},\n",
       "  22: {'max_fitness': -11, 'mean_fitness': -839.475, 'min_fitness': -8211},\n",
       "  23: {'max_fitness': -11, 'mean_fitness': -907.05, 'min_fitness': -8207},\n",
       "  24: {'max_fitness': -3, 'mean_fitness': -1201.45, 'min_fitness': -8211},\n",
       "  25: {'max_fitness': -3, 'mean_fitness': -531.0, 'min_fitness': -8211},\n",
       "  26: {'max_fitness': -3, 'mean_fitness': -958.3, 'min_fitness': -8203},\n",
       "  27: {'max_fitness': -3, 'mean_fitness': -1037.25, 'min_fitness': -8509},\n",
       "  28: {'max_fitness': -1, 'mean_fitness': -662.975, 'min_fitness': -8235},\n",
       "  29: {'max_fitness': -1, 'mean_fitness': -611.525, 'min_fitness': -8252},\n",
       "  30: {'max_fitness': -1, 'mean_fitness': -593.85, 'min_fitness': -8188},\n",
       "  31: {'max_fitness': 0, 'mean_fitness': -714.925, 'min_fitness': -8193},\n",
       "  32: {'max_fitness': 0, 'mean_fitness': -570.75, 'min_fitness': -8193},\n",
       "  33: {'max_fitness': 0, 'mean_fitness': -1117.2, 'min_fitness': -8191},\n",
       "  34: {'max_fitness': 0, 'mean_fitness': -645.225, 'min_fitness': -8258},\n",
       "  35: {'max_fitness': 0, 'mean_fitness': -801.7, 'min_fitness': -8200},\n",
       "  36: {'max_fitness': 0, 'mean_fitness': -846.9, 'min_fitness': -8192},\n",
       "  37: {'max_fitness': 0, 'mean_fitness': -600.175, 'min_fitness': -8191},\n",
       "  38: {'max_fitness': 0, 'mean_fitness': -377.025, 'min_fitness': -4096},\n",
       "  39: {'max_fitness': 0, 'mean_fitness': -340.075, 'min_fitness': -4096},\n",
       "  40: {'max_fitness': 0, 'mean_fitness': -1649.475, 'min_fitness': -8192},\n",
       "  41: {'max_fitness': 0, 'mean_fitness': -697.15, 'min_fitness': -9216},\n",
       "  42: {'max_fitness': 0, 'mean_fitness': -192.95, 'min_fitness': -3952},\n",
       "  43: {'max_fitness': 0, 'mean_fitness': -797.1, 'min_fitness': -8192},\n",
       "  44: {'max_fitness': 0, 'mean_fitness': -1028.175, 'min_fitness': -12290},\n",
       "  45: {'max_fitness': 0, 'mean_fitness': -725.125, 'min_fitness': -9088},\n",
       "  46: {'max_fitness': 0, 'mean_fitness': -327.825, 'min_fitness': -4096},\n",
       "  47: {'max_fitness': 0, 'mean_fitness': -170.475, 'min_fitness': -2048},\n",
       "  48: {'max_fitness': 0, 'mean_fitness': -1256.875, 'min_fitness': -9215},\n",
       "  49: {'max_fitness': 0, 'mean_fitness': -875.775, 'min_fitness': -8456},\n",
       "  50: {'max_fitness': 0, 'mean_fitness': -764.8, 'min_fitness': -8200}},\n",
       " 31,\n",
       " 0,\n",
       " {0: 0,\n",
       "  1: 0,\n",
       "  2: 1,\n",
       "  3: 0,\n",
       "  4: 1,\n",
       "  5: 0,\n",
       "  6: 1,\n",
       "  7: 0,\n",
       "  8: 1,\n",
       "  9: 1,\n",
       "  10: 0,\n",
       "  11: 1,\n",
       "  12: 0,\n",
       "  13: 1})"
      ]
     },
     "execution_count": 75,
     "metadata": {},
     "output_type": "execute_result"
    }
   ],
   "source": [
    "slots = 5\n",
    "GA.apply(secuencia_bits,slots)"
   ]
  },
  {
   "cell_type": "code",
   "execution_count": 76,
   "metadata": {
    "collapsed": true
   },
   "outputs": [],
   "source": [
    "def gene_factory_ex2(gene_type, fact_range):\n",
    "    if fact_range != list('abcdefghijklmnñopqrstuvwxyzABCDEFGHIJKLMNÑOPQRSTUVWXYZ ') or gene_type != str:\n",
    "        raise ValueError(\"Parámetros incorrectos\")\n",
    "    else:\n",
    "        gene = np.random.choice(fact_range)\n",
    "        return gene\n",
    "    \n",
    "def fitness_ex2(indv, objective):\n",
    "    vals = list(indv.values())\n",
    "    obj = list(objective)\n",
    "    hits =0\n",
    "    for i in range(len(vals)):\n",
    "        if vals[i] == obj[i]:\n",
    "            hits += 1   \n",
    "    return hits"
   ]
  },
  {
   "cell_type": "code",
   "execution_count": 81,
   "metadata": {},
   "outputs": [
    {
     "data": {
      "text/plain": [
       "({0: {'max_fitness': 1, 'mean_fitness': 0.2, 'min_fitness': 0},\n",
       "  1: {'max_fitness': 2, 'mean_fitness': 0.7, 'min_fitness': 0},\n",
       "  2: {'max_fitness': 2, 'mean_fitness': 1.125, 'min_fitness': 0},\n",
       "  3: {'max_fitness': 3, 'mean_fitness': 1.425, 'min_fitness': 0},\n",
       "  4: {'max_fitness': 4, 'mean_fitness': 1.975, 'min_fitness': 1},\n",
       "  5: {'max_fitness': 5, 'mean_fitness': 2.225, 'min_fitness': 0},\n",
       "  6: {'max_fitness': 4, 'mean_fitness': 2.375, 'min_fitness': 0},\n",
       "  7: {'max_fitness': 4, 'mean_fitness': 2.65, 'min_fitness': 1},\n",
       "  8: {'max_fitness': 5, 'mean_fitness': 3.025, 'min_fitness': 1},\n",
       "  9: {'max_fitness': 5, 'mean_fitness': 3.3, 'min_fitness': 1},\n",
       "  10: {'max_fitness': 5, 'mean_fitness': 3.35, 'min_fitness': 1},\n",
       "  11: {'max_fitness': 6, 'mean_fitness': 3.65, 'min_fitness': 1},\n",
       "  12: {'max_fitness': 6, 'mean_fitness': 4.175, 'min_fitness': 2},\n",
       "  13: {'max_fitness': 6, 'mean_fitness': 4.425, 'min_fitness': 2},\n",
       "  14: {'max_fitness': 7, 'mean_fitness': 4.3, 'min_fitness': 2},\n",
       "  15: {'max_fitness': 7, 'mean_fitness': 4.975, 'min_fitness': 3},\n",
       "  16: {'max_fitness': 8, 'mean_fitness': 5.125, 'min_fitness': 3},\n",
       "  17: {'max_fitness': 7, 'mean_fitness': 4.775, 'min_fitness': 2},\n",
       "  18: {'max_fitness': 7, 'mean_fitness': 4.675, 'min_fitness': 2},\n",
       "  19: {'max_fitness': 7, 'mean_fitness': 4.975, 'min_fitness': 3},\n",
       "  20: {'max_fitness': 7, 'mean_fitness': 5.05, 'min_fitness': 3},\n",
       "  21: {'max_fitness': 7, 'mean_fitness': 4.8, 'min_fitness': 3},\n",
       "  22: {'max_fitness': 7, 'mean_fitness': 4.9, 'min_fitness': 2},\n",
       "  23: {'max_fitness': 7, 'mean_fitness': 4.875, 'min_fitness': 0},\n",
       "  24: {'max_fitness': 7, 'mean_fitness': 5.3, 'min_fitness': 2},\n",
       "  25: {'max_fitness': 7, 'mean_fitness': 5.325, 'min_fitness': 3},\n",
       "  26: {'max_fitness': 8, 'mean_fitness': 5.475, 'min_fitness': 3},\n",
       "  27: {'max_fitness': 8, 'mean_fitness': 5.525, 'min_fitness': 3},\n",
       "  28: {'max_fitness': 7, 'mean_fitness': 5.425, 'min_fitness': 2},\n",
       "  29: {'max_fitness': 7, 'mean_fitness': 5.125, 'min_fitness': 3},\n",
       "  30: {'max_fitness': 9, 'mean_fitness': 5.05, 'min_fitness': 2},\n",
       "  31: {'max_fitness': 7, 'mean_fitness': 5.0, 'min_fitness': 2},\n",
       "  32: {'max_fitness': 7, 'mean_fitness': 4.975, 'min_fitness': 2},\n",
       "  33: {'max_fitness': 7, 'mean_fitness': 5.075, 'min_fitness': 3},\n",
       "  34: {'max_fitness': 7, 'mean_fitness': 4.825, 'min_fitness': 2},\n",
       "  35: {'max_fitness': 8, 'mean_fitness': 5.0, 'min_fitness': 3},\n",
       "  36: {'max_fitness': 8, 'mean_fitness': 5.05, 'min_fitness': 2},\n",
       "  37: {'max_fitness': 8, 'mean_fitness': 6.0, 'min_fitness': 2},\n",
       "  38: {'max_fitness': 8, 'mean_fitness': 6.4, 'min_fitness': 4},\n",
       "  39: {'max_fitness': 8, 'mean_fitness': 6.125, 'min_fitness': 4},\n",
       "  40: {'max_fitness': 8, 'mean_fitness': 5.65, 'min_fitness': 2},\n",
       "  41: {'max_fitness': 9, 'mean_fitness': 5.975, 'min_fitness': 3},\n",
       "  42: {'max_fitness': 9, 'mean_fitness': 5.575, 'min_fitness': 3},\n",
       "  43: {'max_fitness': 8, 'mean_fitness': 5.75, 'min_fitness': 2},\n",
       "  44: {'max_fitness': 8, 'mean_fitness': 5.85, 'min_fitness': 3},\n",
       "  45: {'max_fitness': 8, 'mean_fitness': 5.75, 'min_fitness': 1},\n",
       "  46: {'max_fitness': 8, 'mean_fitness': 6.075, 'min_fitness': 3},\n",
       "  47: {'max_fitness': 9, 'mean_fitness': 6.25, 'min_fitness': 4},\n",
       "  48: {'max_fitness': 8, 'mean_fitness': 6.175, 'min_fitness': 3},\n",
       "  49: {'max_fitness': 9, 'mean_fitness': 6.175, 'min_fitness': 4},\n",
       "  50: {'max_fitness': 8, 'mean_fitness': 5.85, 'min_fitness': 3},\n",
       "  51: {'max_fitness': 9, 'mean_fitness': 5.8, 'min_fitness': 3},\n",
       "  52: {'max_fitness': 9, 'mean_fitness': 5.775, 'min_fitness': 3},\n",
       "  53: {'max_fitness': 8, 'mean_fitness': 5.9, 'min_fitness': 3},\n",
       "  54: {'max_fitness': 9, 'mean_fitness': 5.725, 'min_fitness': 3},\n",
       "  55: {'max_fitness': 9, 'mean_fitness': 5.925, 'min_fitness': 3},\n",
       "  56: {'max_fitness': 8, 'mean_fitness': 6.125, 'min_fitness': 2},\n",
       "  57: {'max_fitness': 9, 'mean_fitness': 6.125, 'min_fitness': 3},\n",
       "  58: {'max_fitness': 9, 'mean_fitness': 6.225, 'min_fitness': 2},\n",
       "  59: {'max_fitness': 8, 'mean_fitness': 5.7, 'min_fitness': 2},\n",
       "  60: {'max_fitness': 8, 'mean_fitness': 6.025, 'min_fitness': 3},\n",
       "  61: {'max_fitness': 9, 'mean_fitness': 6.275, 'min_fitness': 4},\n",
       "  62: {'max_fitness': 9, 'mean_fitness': 5.825, 'min_fitness': 3},\n",
       "  63: {'max_fitness': 9, 'mean_fitness': 5.725, 'min_fitness': 2},\n",
       "  64: {'max_fitness': 8, 'mean_fitness': 5.925, 'min_fitness': 2},\n",
       "  65: {'max_fitness': 10, 'mean_fitness': 6.05, 'min_fitness': 2},\n",
       "  66: {'max_fitness': 9, 'mean_fitness': 6.4, 'min_fitness': 2},\n",
       "  67: {'max_fitness': 9, 'mean_fitness': 6.625, 'min_fitness': 4},\n",
       "  68: {'max_fitness': 9, 'mean_fitness': 6.725, 'min_fitness': 4},\n",
       "  69: {'max_fitness': 10, 'mean_fitness': 6.625, 'min_fitness': 3},\n",
       "  70: {'max_fitness': 9, 'mean_fitness': 6.675, 'min_fitness': 3}},\n",
       " 65,\n",
       " 10,\n",
       " {0: 'h',\n",
       "  1: 'e',\n",
       "  2: 'l',\n",
       "  3: 'l',\n",
       "  4: 'o',\n",
       "  5: 'w',\n",
       "  6: 'o',\n",
       "  7: 'r',\n",
       "  8: 'l',\n",
       "  9: 'd'})"
      ]
     },
     "execution_count": 81,
     "metadata": {},
     "output_type": "execute_result"
    }
   ],
   "source": [
    "# Prueba ejercicio 2\n",
    "frase = 'helloworld'\n",
    "pop_sz_0 = 40\n",
    "fit_fn = fitness_ex2 \n",
    "cr_genes = gene_factory_ex2\n",
    "cr_indv = indv_factory\n",
    "mut_rate = 0.2\n",
    "term_cond = {'max_fitness':10, 'iters':70} \n",
    "indv_chars = {}\n",
    "char_list = list('abcdefghijklmnñopqrstuvwxyzABCDEFGHIJKLMNÑOPQRSTUVWXYZ ')\n",
    "for i in range(len(frase)):\n",
    "    aux_dict = {}\n",
    "    aux_dict['gene_type'] = str\n",
    "    aux_dict['fact_range'] = char_list\n",
    "    indv_chars[i] = aux_dict.copy()\n",
    "GA = GENALG(pop_sz_0, fit_fn, cr_genes, cr_indv, mut_rate, term_cond, indv_chars)\n",
    "slots = 5\n",
    "GA.apply(frase,slots)"
   ]
  },
  {
   "cell_type": "code",
   "execution_count": null,
   "metadata": {},
   "outputs": [],
   "source": [
    "type(None)"
   ]
  },
  {
   "cell_type": "code",
   "execution_count": null,
   "metadata": {
    "collapsed": true
   },
   "outputs": [],
   "source": [
    "def gene_factory(gene_type, fact_range=None):\n",
    "    if type(fact_range) is not list:\n",
    "            raise ValueError(\"Debe entregar una lista con el rango de valores factible\")\n",
    "    else:\n",
    "        if gene_type == int: \n",
    "            new_gene = np.random.randint(fact_range[0], fact_range[1]+1)\n",
    "            return new_gene\n",
    "        elif gene_type == str:\n",
    "            new_gene = np.random.choice(fact_range)\n",
    "            return new_gene\n",
    "        elif gene_type == 'binary':\n",
    "            new_gene = np.random.choice(fact_range)\n",
    "            return new_gene\n",
    "        elif gene_type == float:\n",
    "            new_gene = np.random.rand() * (fact_range[1] - fact_range[0]) + fact_range[0]\n",
    "            return new_gene\n",
    "        \n",
    "   "
   ]
  },
  {
   "cell_type": "code",
   "execution_count": null,
   "metadata": {
    "collapsed": true
   },
   "outputs": [],
   "source": [
    "import numpy as np\n",
    "np.random.seed(0)\n",
    "def f_1():\n",
    "    return np.random.rand()"
   ]
  },
  {
   "cell_type": "code",
   "execution_count": null,
   "metadata": {},
   "outputs": [],
   "source": [
    "f_1()"
   ]
  },
  {
   "cell_type": "code",
   "execution_count": null,
   "metadata": {},
   "outputs": [],
   "source": [
    "f_1()"
   ]
  },
  {
   "cell_type": "code",
   "execution_count": 23,
   "metadata": {},
   "outputs": [
    {
     "data": {
      "text/plain": [
       "True"
      ]
     },
     "execution_count": 23,
     "metadata": {},
     "output_type": "execute_result"
    }
   ],
   "source": [
    "type(1)==int"
   ]
  },
  {
   "cell_type": "code",
   "execution_count": 24,
   "metadata": {},
   "outputs": [
    {
     "data": {
      "text/plain": [
       "<function bin>"
      ]
     },
     "execution_count": 24,
     "metadata": {},
     "output_type": "execute_result"
    }
   ],
   "source": []
  },
  {
   "cell_type": "code",
   "execution_count": null,
   "metadata": {
    "collapsed": true
   },
   "outputs": [],
   "source": [
    "a = None"
   ]
  },
  {
   "cell_type": "code",
   "execution_count": null,
   "metadata": {},
   "outputs": [],
   "source": [
    "a is None"
   ]
  },
  {
   "cell_type": "code",
   "execution_count": null,
   "metadata": {},
   "outputs": [],
   "source": [
    "np.inf"
   ]
  },
  {
   "cell_type": "code",
   "execution_count": null,
   "metadata": {},
   "outputs": [],
   "source": [
    "3>-np.inf"
   ]
  },
  {
   "cell_type": "code",
   "execution_count": null,
   "metadata": {},
   "outputs": [],
   "source": [
    "np.random.randint(0, 100,5)"
   ]
  },
  {
   "cell_type": "code",
   "execution_count": null,
   "metadata": {
    "collapsed": true
   },
   "outputs": [],
   "source": [
    "a= {0:10,1:20}"
   ]
  },
  {
   "cell_type": "code",
   "execution_count": null,
   "metadata": {},
   "outputs": [],
   "source": [
    "list(a.values())\n"
   ]
  },
  {
   "cell_type": "code",
   "execution_count": 5,
   "metadata": {
    "collapsed": true
   },
   "outputs": [],
   "source": [
    "import numpy as np"
   ]
  },
  {
   "cell_type": "code",
   "execution_count": null,
   "metadata": {},
   "outputs": [],
   "source": [
    "np.random.rand()"
   ]
  },
  {
   "cell_type": "code",
   "execution_count": 1,
   "metadata": {
    "collapsed": true
   },
   "outputs": [],
   "source": [
    "a=[1,2,3,4]"
   ]
  },
  {
   "cell_type": "code",
   "execution_count": null,
   "metadata": {},
   "outputs": [],
   "source": [
    "np.mean(a)"
   ]
  },
  {
   "cell_type": "code",
   "execution_count": 3,
   "metadata": {},
   "outputs": [
    {
     "data": {
      "text/plain": [
       "True"
      ]
     },
     "execution_count": 3,
     "metadata": {},
     "output_type": "execute_result"
    }
   ],
   "source": [
    "type(a) is list"
   ]
  },
  {
   "cell_type": "code",
   "execution_count": 6,
   "metadata": {},
   "outputs": [
    {
     "data": {
      "text/plain": [
       "1"
      ]
     },
     "execution_count": 6,
     "metadata": {},
     "output_type": "execute_result"
    }
   ],
   "source": [
    "np.random.choice([0,1])"
   ]
  },
  {
   "cell_type": "code",
   "execution_count": 7,
   "metadata": {},
   "outputs": [
    {
     "data": {
      "text/plain": [
       "1"
      ]
     },
     "execution_count": 7,
     "metadata": {},
     "output_type": "execute_result"
    }
   ],
   "source": [
    "np.random.choice([0,1])"
   ]
  },
  {
   "cell_type": "code",
   "execution_count": 8,
   "metadata": {},
   "outputs": [
    {
     "data": {
      "text/plain": [
       "1"
      ]
     },
     "execution_count": 8,
     "metadata": {},
     "output_type": "execute_result"
    }
   ],
   "source": [
    "np.random.choice([0,1])"
   ]
  },
  {
   "cell_type": "code",
   "execution_count": 9,
   "metadata": {},
   "outputs": [
    {
     "data": {
      "text/plain": [
       "0"
      ]
     },
     "execution_count": 9,
     "metadata": {},
     "output_type": "execute_result"
    }
   ],
   "source": [
    "np.random.choice([0,1])"
   ]
  },
  {
   "cell_type": "code",
   "execution_count": 10,
   "metadata": {},
   "outputs": [
    {
     "data": {
      "text/plain": [
       "1"
      ]
     },
     "execution_count": 10,
     "metadata": {},
     "output_type": "execute_result"
    }
   ],
   "source": [
    "np.random.choice([0,1])"
   ]
  },
  {
   "cell_type": "code",
   "execution_count": 11,
   "metadata": {},
   "outputs": [
    {
     "data": {
      "text/plain": [
       "0"
      ]
     },
     "execution_count": 11,
     "metadata": {},
     "output_type": "execute_result"
    }
   ],
   "source": [
    "np.random.choice([0,1])"
   ]
  },
  {
   "cell_type": "code",
   "execution_count": 19,
   "metadata": {},
   "outputs": [],
   "source": [
    "a ='abcdefghijklmnñopqrstuvwxyzABCDEFGHIJKLMNÑOPQRSTUVWXYZ '\n",
    "b = list(a)\n"
   ]
  },
  {
   "cell_type": "code",
   "execution_count": 20,
   "metadata": {},
   "outputs": [
    {
     "data": {
      "text/plain": [
       "['a',\n",
       " 'b',\n",
       " 'c',\n",
       " 'd',\n",
       " 'e',\n",
       " 'f',\n",
       " 'g',\n",
       " 'h',\n",
       " 'i',\n",
       " 'j',\n",
       " 'k',\n",
       " 'l',\n",
       " 'm',\n",
       " 'n',\n",
       " 'ñ',\n",
       " 'o',\n",
       " 'p',\n",
       " 'q',\n",
       " 'r',\n",
       " 's',\n",
       " 't',\n",
       " 'u',\n",
       " 'v',\n",
       " 'w',\n",
       " 'x',\n",
       " 'y',\n",
       " 'z',\n",
       " 'A',\n",
       " 'B',\n",
       " 'C',\n",
       " 'D',\n",
       " 'E',\n",
       " 'F',\n",
       " 'G',\n",
       " 'H',\n",
       " 'I',\n",
       " 'J',\n",
       " 'K',\n",
       " 'L',\n",
       " 'M',\n",
       " 'N',\n",
       " 'Ñ',\n",
       " 'O',\n",
       " 'P',\n",
       " 'Q',\n",
       " 'R',\n",
       " 'S',\n",
       " 'T',\n",
       " 'U',\n",
       " 'V',\n",
       " 'W',\n",
       " 'X',\n",
       " 'Y',\n",
       " 'Z',\n",
       " ' ']"
      ]
     },
     "execution_count": 20,
     "metadata": {},
     "output_type": "execute_result"
    }
   ],
   "source": [
    "b"
   ]
  },
  {
   "cell_type": "code",
   "execution_count": 15,
   "metadata": {},
   "outputs": [
    {
     "data": {
      "text/plain": [
       "['a',\n",
       " 'b',\n",
       " 'c',\n",
       " 'd',\n",
       " 'e',\n",
       " 'f',\n",
       " 'g',\n",
       " 'h',\n",
       " 'i',\n",
       " 'j',\n",
       " 'k',\n",
       " 'l',\n",
       " 'm',\n",
       " 'n',\n",
       " 'ñ',\n",
       " 'o',\n",
       " 'p',\n",
       " 'q',\n",
       " 'r',\n",
       " 's',\n",
       " 't',\n",
       " 'u',\n",
       " 'v',\n",
       " 'w',\n",
       " 'x',\n",
       " 'y',\n",
       " 'z',\n",
       " 'A',\n",
       " 'B',\n",
       " 'C',\n",
       " 'D',\n",
       " 'E',\n",
       " 'F',\n",
       " 'G',\n",
       " 'H',\n",
       " 'I',\n",
       " 'J',\n",
       " 'K',\n",
       " 'L',\n",
       " 'M',\n",
       " 'N',\n",
       " 'Ñ',\n",
       " 'O',\n",
       " 'P',\n",
       " 'Q',\n",
       " 'R',\n",
       " 'S',\n",
       " 'T',\n",
       " 'U',\n",
       " 'V',\n",
       " 'W',\n",
       " 'X',\n",
       " 'Y',\n",
       " 'Z']"
      ]
     },
     "execution_count": 15,
     "metadata": {},
     "output_type": "execute_result"
    }
   ],
   "source": [
    "list(a)"
   ]
  },
  {
   "cell_type": "code",
   "execution_count": 22,
   "metadata": {},
   "outputs": [
    {
     "ename": "ValueError",
     "evalue": "a must be 1-dimensional or an integer",
     "output_type": "error",
     "traceback": [
      "\u001b[1;31m---------------------------------------------------------------------------\u001b[0m",
      "\u001b[1;31mTypeError\u001b[0m                                 Traceback (most recent call last)",
      "\u001b[1;32mmtrand.pyx\u001b[0m in \u001b[0;36mmtrand.RandomState.choice\u001b[1;34m()\u001b[0m\n",
      "\u001b[1;31mTypeError\u001b[0m: 'str' object cannot be interpreted as an integer",
      "\nDuring handling of the above exception, another exception occurred:\n",
      "\u001b[1;31mValueError\u001b[0m                                Traceback (most recent call last)",
      "\u001b[1;32m<ipython-input-22-26f99c29e307>\u001b[0m in \u001b[0;36m<module>\u001b[1;34m()\u001b[0m\n\u001b[1;32m----> 1\u001b[1;33m \u001b[0mnp\u001b[0m\u001b[1;33m.\u001b[0m\u001b[0mrandom\u001b[0m\u001b[1;33m.\u001b[0m\u001b[0mchoice\u001b[0m\u001b[1;33m(\u001b[0m\u001b[1;34m'cat'\u001b[0m\u001b[1;33m)\u001b[0m\u001b[1;33m\u001b[0m\u001b[0m\n\u001b[0m",
      "\u001b[1;32mmtrand.pyx\u001b[0m in \u001b[0;36mmtrand.RandomState.choice\u001b[1;34m()\u001b[0m\n",
      "\u001b[1;31mValueError\u001b[0m: a must be 1-dimensional or an integer"
     ]
    }
   ],
   "source": [
    "np.random.choice('cat')"
   ]
  },
  {
   "cell_type": "code",
   "execution_count": 28,
   "metadata": {
    "collapsed": true
   },
   "outputs": [],
   "source": [
    "a =[0,1,1,0,1,1,1]"
   ]
  },
  {
   "cell_type": "code",
   "execution_count": 29,
   "metadata": {
    "collapsed": true
   },
   "outputs": [],
   "source": [
    "b = ''.join(str(i) for i in a)"
   ]
  },
  {
   "cell_type": "code",
   "execution_count": 30,
   "metadata": {},
   "outputs": [
    {
     "data": {
      "text/plain": [
       "'0110111'"
      ]
     },
     "execution_count": 30,
     "metadata": {},
     "output_type": "execute_result"
    }
   ],
   "source": [
    "b"
   ]
  },
  {
   "cell_type": "code",
   "execution_count": 31,
   "metadata": {},
   "outputs": [
    {
     "data": {
      "text/plain": [
       "55"
      ]
     },
     "execution_count": 31,
     "metadata": {},
     "output_type": "execute_result"
    }
   ],
   "source": [
    "int(b, 2)"
   ]
  },
  {
   "cell_type": "code",
   "execution_count": null,
   "metadata": {
    "collapsed": true
   },
   "outputs": [],
   "source": []
  }
 ],
 "metadata": {
  "kernelspec": {
   "display_name": "Python 3",
   "language": "python",
   "name": "python3"
  },
  "language_info": {
   "codemirror_mode": {
    "name": "ipython",
    "version": 3
   },
   "file_extension": ".py",
   "mimetype": "text/x-python",
   "name": "python",
   "nbconvert_exporter": "python",
   "pygments_lexer": "ipython3",
   "version": "3.6.3"
  }
 },
 "nbformat": 4,
 "nbformat_minor": 2
}
