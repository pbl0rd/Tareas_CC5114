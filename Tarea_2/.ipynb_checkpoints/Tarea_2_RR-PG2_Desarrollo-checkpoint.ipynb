{
 "cells": [
  {
   "cell_type": "markdown",
   "metadata": {},
   "source": [
    "# Definimos una clase para el algoritmo genético\n",
    "### Inputs:\n",
    "- pop_sz_0: Tamaño de la población inicial (Número de individuos que debe contener la población inicial)\n",
    "- fit_fn: Función de fitness del algoritmo que permite asignar un valor a un individuo sobre la base de que tan bien cumple con el objetivo.\n",
    "- cr_genes: Función para generar genes\n",
    "- cr_indv: Función para generar individuos\n",
    "- mut_rate: Tasa de mutación\n",
    "- term_cond: Condición de terminación del algoritmo.\n"
   ]
  },
  {
   "cell_type": "code",
   "execution_count": 7,
   "metadata": {
    "collapsed": true
   },
   "outputs": [],
   "source": [
    "class GENALG(object):\n",
    "    # Método inicializador para la clase algoritmo genético \n",
    "\n",
    "    def __init__(self, pop_sz_0: int, fit_fn, cr_genes, cr_indv, mut_rate, term_cond, indv_chars):\n",
    "        # Verificamos que los parámetros de entrada del constructor sean los correctos\n",
    "        if type(pop_sz_0) != int:\n",
    "            raise ValueError(\"Input n_weights debe ser un número entero positivo\")        \n",
    "        self.__pop_sz = pop_sz_0\n",
    "        self.__pop = None\n",
    "        self.__pop_fitness = None\n",
    "        self.__max_fitness = None\n",
    "        self.__mean_fitness = None\n",
    "        self.__min_fitness = None\n",
    "        self.__fittest_indv = None\n",
    "        self.__fit_fn = fit_fn\n",
    "        self.__cr_genes = cr_genes\n",
    "        self.__cr_indv = cr_indv\n",
    "        self.__indv_chars = indv_chars\n",
    "        self.__mut_rate = mut_rate\n",
    "        self.__term_cond = term_cond\n",
    "\n",
    "    # Métodos get para obtener los atributos del algoritmo genético.\n",
    "\n",
    "    # Función para obtener el tamaño de la población\n",
    "    def get_pop_sz(self):\n",
    "        return self.__pop_sz\n",
    "    \n",
    "    # Función para obtener la población\n",
    "    def get_pop(self):\n",
    "        if self.__pop is None:\n",
    "            raise ValueError(\"la población no ha sido creada\")\n",
    "        else:\n",
    "            return self.__pop\n",
    "    \n",
    "    # Función para obtener la tasa de mutación\n",
    "    def get_mut_rate(self):\n",
    "        return self.__mut_rate\n",
    "   \n",
    "    # Función para obtener condición de terminación\n",
    "    def get_term_cond(self):\n",
    "        return self.__term_cond    \n",
    "\n",
    "    # Función para obtener la función de fitness del algoritmo\n",
    "    def get_fit_fn(self):\n",
    "        return self.__fit_fn\n",
    "\n",
    "    # Función para obtener la función de creación de genes del algoritmo\n",
    "    def get_cr_genes(self):\n",
    "        return self.__cr_genes\n",
    "    \n",
    "    # Función para obtener la función de creación de individuos del algoritmo\n",
    "    def get_cr_indv(self):\n",
    "        return self.__cr_indv    \n",
    "           \n",
    "            \n",
    "    # Función para generar la población inicial\n",
    "    def gen_pop(self):\n",
    "        pop = {}\n",
    "        for i in range(self.__pop_sz):\n",
    "            pop[i] = self.__cr_indv(self.__cr_genes, indv_chars)\n",
    "        self.__pop = pop\n",
    "\n",
    "    def comp_pop_fitness(self, fit_params):   \n",
    "        pop_fitness = {}\n",
    "        max_fitness = -np.inf\n",
    "        min_fitness = np.inf\n",
    "        fittest_indv = None\n",
    "        for i in range(self.__pop_sz):\n",
    "            fitness = self.__fit_fn(self.__pop[i], fit_params)\n",
    "            if fitness > max_fitness:\n",
    "                max_fitness = fitness\n",
    "                fittest_indv = self.__pop[i]\n",
    "            if fitness < min_fitness:\n",
    "                min_fitness = fitness\n",
    "            pop_fitness[i] = fitness\n",
    "        mean_fitness = np.mean(list(pop_fitness.values()))\n",
    "        self.__pop_fitness = pop_fitness\n",
    "        self.__max_fitness = max_fitness\n",
    "        self.__min_fitness = min_fitness\n",
    "        self.__mean_fitness = mean_fitness\n",
    "        self.__fittest_indv = fittest_indv\n",
    "    \n",
    "    def tournament_sel(self, slots: int):\n",
    "        if slots > self.__pop_sz:\n",
    "            raise ValueError(\"slots debe ser un número entero positivo menor que el tamaño de la población\")\n",
    "        else:\n",
    "            chosen_set = np.random.randint(0, self.__pop_sz, slots)\n",
    "            chosen_set_fitness = [self.__pop_fitness[i] for i in chosen_set]\n",
    "            max_set_fitness = max(chosen_set_fitness)        \n",
    "            aux_dict = dict(zip(chosen_set_fitness, chosen_set))\n",
    "            winner = aux_dict[max_set_fitness]\n",
    "            return self.__pop[winner]\n",
    "    \n",
    "    def crossover(self, indv1, indv2):\n",
    "        vals1 = list(indv1.values())\n",
    "        vals2 = list(indv2.values())\n",
    "        num_genes = len(vals1)\n",
    "        cut = np.random.randint(1,num_genes)\n",
    "        new_vals = vals1[:cut] + vals2[cut:]\n",
    "        keys = list(indv1.keys())\n",
    "        new_ind = dict(zip(keys, new_vals))\n",
    "        return new_ind\n",
    "    \n",
    "    def mutation(self, indv):\n",
    "        vals = list(indv.values())\n",
    "        num_genes = len(vals)\n",
    "        new_vals = []\n",
    "        for i in range(num_genes):            \n",
    "            if np.random.rand() > self.__mut_rate:\n",
    "                new_vals.append(vals[i])\n",
    "            else:\n",
    "                cond = True\n",
    "                while cond:\n",
    "                    new_val = self.__cr_genes(self.__indv_chars[i]['gene_type'],self.__indv_chars[i]['fact_range'])\n",
    "                    if new_val != vals[i]:\n",
    "                        cond = False\n",
    "                new_vals.append(new_val)\n",
    "        keys = list(indv.keys())\n",
    "        new_ind = dict(zip(keys, new_vals))\n",
    "        return new_ind\n",
    "    \n",
    "    def apply(self,fit_params, slots, random_state=None):\n",
    "        if type(random_state) == int:\n",
    "            np.random.seed(random_state)\n",
    "        self.gen_pop()\n",
    "        self.comp_pop_fitness(fit_params)\n",
    "        generations = {}        \n",
    "        iters = 0\n",
    "        goal_cross = 500\n",
    "        overall_max_fitness = self.__max_fitness\n",
    "        overall_fittest_indv = self.__fittest_indv\n",
    "        generations[iters] = {}\n",
    "        generations[iters]['max_fitness'] = self.__max_fitness\n",
    "        generations[iters]['min_fitness'] = self.__min_fitness\n",
    "        generations[iters]['mean_fitness'] = self.__mean_fitness\n",
    "        if self.__max_fitness >= self.__term_cond['max_fitness'] and goal_cross == 500:\n",
    "            goal_cross = iters\n",
    "        while iters < self.__term_cond['iters']:\n",
    "            new_pop = {}\n",
    "            for i in range(self.__pop_sz):\n",
    "                parent_1 = self.tournament_sel(slots)\n",
    "                parent_2 = self.tournament_sel(slots)\n",
    "                child = self.crossover(parent_1, parent_2)\n",
    "                mut_child = self.mutation(child)\n",
    "                new_pop[i] = mut_child\n",
    "            self.__pop = new_pop.copy()\n",
    "            self.comp_pop_fitness(fit_params)\n",
    "            iters += 1\n",
    "            generations[iters] = {}\n",
    "            generations[iters]['max_fitness'] = self.__max_fitness\n",
    "            generations[iters]['min_fitness'] = self.__min_fitness\n",
    "            generations[iters]['mean_fitness'] = self.__mean_fitness\n",
    "            if self.__max_fitness > overall_max_fitness:\n",
    "                overall_max_fitness = self.__max_fitness\n",
    "                overall_fittest_indv = self.__fittest_indv                \n",
    "            if self.__max_fitness >= self.__term_cond['max_fitness'] and goal_cross == 500:\n",
    "                goal_cross = iters\n",
    "        return generations, goal_cross, overall_max_fitness, overall_fittest_indv\n",
    "    \n",
    "    "
   ]
  },
  {
   "cell_type": "code",
   "execution_count": 60,
   "metadata": {
    "collapsed": true
   },
   "outputs": [],
   "source": [
    "def gene_factory_ex1(gene_type, fact_range):\n",
    "    if fact_range != [0,1] or gene_type != 'binary':\n",
    "        raise ValueError(\"Parámetros incorrectos\")\n",
    "    else:\n",
    "        gene = np.random.choice(fact_range)\n",
    "        return gene\n",
    "\n",
    "def indv_factory(gene_factory, indv_chars):    \n",
    "    vals = list(indv_chars.values())\n",
    "    num_genes = len(vals)\n",
    "    new_indv = {}\n",
    "    for i in range(num_genes):\n",
    "        new_indv[i] = gene_factory(indv_chars[i]['gene_type'],indv_chars[i]['fact_range'])\n",
    "    return new_indv\n",
    "\n",
    "def fitness_ex1(indv, objective):\n",
    "    vals = list(indv.values())\n",
    "    vals_str = ''.join(str(i) for i in vals)\n",
    "    fitness = abs(int(objective, 2)-int(vals_str, 2))\n",
    "    return -fitness"
   ]
  },
  {
   "cell_type": "code",
   "execution_count": 73,
   "metadata": {
    "collapsed": true
   },
   "outputs": [],
   "source": [
    "# Prueba ejercicio 1\n",
    "secuencia_bits = '00101010110101'\n",
    "pop_sz_0 = 40\n",
    "fit_fn = fitness_ex1 \n",
    "cr_genes = gene_factory_ex1\n",
    "cr_indv = indv_factory\n",
    "mut_rate = 0.1\n",
    "term_cond = {'max_fitness':0, 'iters':50} \n",
    "indv_chars = {}\n",
    "for i in range(len(secuencia_bits)):\n",
    "    aux_dict = {}\n",
    "    aux_dict['gene_type'] = 'binary'\n",
    "    aux_dict['fact_range'] = [0,1]\n",
    "    indv_chars[i] = aux_dict.copy()"
   ]
  },
  {
   "cell_type": "code",
   "execution_count": 74,
   "metadata": {
    "collapsed": true
   },
   "outputs": [],
   "source": [
    "GA = GENALG(pop_sz_0, fit_fn, cr_genes, cr_indv, mut_rate, term_cond, indv_chars)"
   ]
  },
  {
   "cell_type": "code",
   "execution_count": 75,
   "metadata": {},
   "outputs": [
    {
     "data": {
      "text/plain": [
       "({0: {'max_fitness': -166, 'mean_fitness': -7516.575, 'min_fitness': -13344},\n",
       "  1: {'max_fitness': -91, 'mean_fitness': -2969.2, 'min_fitness': -13501},\n",
       "  2: {'max_fitness': -81, 'mean_fitness': -1128.625, 'min_fitness': -8345},\n",
       "  3: {'max_fitness': -76, 'mean_fitness': -591.925, 'min_fitness': -8089},\n",
       "  4: {'max_fitness': -76, 'mean_fitness': -666.5, 'min_fitness': -8272},\n",
       "  5: {'max_fitness': -75, 'mean_fitness': -355.1, 'min_fitness': -4209},\n",
       "  6: {'max_fitness': -75, 'mean_fitness': -1250.075, 'min_fitness': -12496},\n",
       "  7: {'max_fitness': -75, 'mean_fitness': -917.625, 'min_fitness': -8270},\n",
       "  8: {'max_fitness': -76, 'mean_fitness': -394.125, 'min_fitness': -3660},\n",
       "  9: {'max_fitness': -75, 'mean_fitness': -742.175, 'min_fitness': -8331},\n",
       "  10: {'max_fitness': -75, 'mean_fitness': -1374.6, 'min_fitness': -8300},\n",
       "  11: {'max_fitness': -75, 'mean_fitness': -642.3, 'min_fitness': -8267},\n",
       "  12: {'max_fitness': -75, 'mean_fitness': -528.95, 'min_fitness': -8331},\n",
       "  13: {'max_fitness': -75, 'mean_fitness': -1466.6, 'min_fitness': -8395},\n",
       "  14: {'max_fitness': -75, 'mean_fitness': -1082.975, 'min_fitness': -8271},\n",
       "  15: {'max_fitness': -75, 'mean_fitness': -675.225, 'min_fitness': -8276},\n",
       "  16: {'max_fitness': -75, 'mean_fitness': -530.65, 'min_fitness': -4187},\n",
       "  17: {'max_fitness': -75, 'mean_fitness': -937.1, 'min_fitness': -8268},\n",
       "  18: {'max_fitness': -53, 'mean_fitness': -879.325, 'min_fitness': -9291},\n",
       "  19: {'max_fitness': -53, 'mean_fitness': -541.275, 'min_fitness': -4179},\n",
       "  20: {'max_fitness': -52, 'mean_fitness': -751.225, 'min_fitness': -8315},\n",
       "  21: {'max_fitness': -11, 'mean_fitness': -376.775, 'min_fitness': -4179},\n",
       "  22: {'max_fitness': -11, 'mean_fitness': -839.475, 'min_fitness': -8211},\n",
       "  23: {'max_fitness': -11, 'mean_fitness': -907.05, 'min_fitness': -8207},\n",
       "  24: {'max_fitness': -3, 'mean_fitness': -1201.45, 'min_fitness': -8211},\n",
       "  25: {'max_fitness': -3, 'mean_fitness': -531.0, 'min_fitness': -8211},\n",
       "  26: {'max_fitness': -3, 'mean_fitness': -958.3, 'min_fitness': -8203},\n",
       "  27: {'max_fitness': -3, 'mean_fitness': -1037.25, 'min_fitness': -8509},\n",
       "  28: {'max_fitness': -1, 'mean_fitness': -662.975, 'min_fitness': -8235},\n",
       "  29: {'max_fitness': -1, 'mean_fitness': -611.525, 'min_fitness': -8252},\n",
       "  30: {'max_fitness': -1, 'mean_fitness': -593.85, 'min_fitness': -8188},\n",
       "  31: {'max_fitness': 0, 'mean_fitness': -714.925, 'min_fitness': -8193},\n",
       "  32: {'max_fitness': 0, 'mean_fitness': -570.75, 'min_fitness': -8193},\n",
       "  33: {'max_fitness': 0, 'mean_fitness': -1117.2, 'min_fitness': -8191},\n",
       "  34: {'max_fitness': 0, 'mean_fitness': -645.225, 'min_fitness': -8258},\n",
       "  35: {'max_fitness': 0, 'mean_fitness': -801.7, 'min_fitness': -8200},\n",
       "  36: {'max_fitness': 0, 'mean_fitness': -846.9, 'min_fitness': -8192},\n",
       "  37: {'max_fitness': 0, 'mean_fitness': -600.175, 'min_fitness': -8191},\n",
       "  38: {'max_fitness': 0, 'mean_fitness': -377.025, 'min_fitness': -4096},\n",
       "  39: {'max_fitness': 0, 'mean_fitness': -340.075, 'min_fitness': -4096},\n",
       "  40: {'max_fitness': 0, 'mean_fitness': -1649.475, 'min_fitness': -8192},\n",
       "  41: {'max_fitness': 0, 'mean_fitness': -697.15, 'min_fitness': -9216},\n",
       "  42: {'max_fitness': 0, 'mean_fitness': -192.95, 'min_fitness': -3952},\n",
       "  43: {'max_fitness': 0, 'mean_fitness': -797.1, 'min_fitness': -8192},\n",
       "  44: {'max_fitness': 0, 'mean_fitness': -1028.175, 'min_fitness': -12290},\n",
       "  45: {'max_fitness': 0, 'mean_fitness': -725.125, 'min_fitness': -9088},\n",
       "  46: {'max_fitness': 0, 'mean_fitness': -327.825, 'min_fitness': -4096},\n",
       "  47: {'max_fitness': 0, 'mean_fitness': -170.475, 'min_fitness': -2048},\n",
       "  48: {'max_fitness': 0, 'mean_fitness': -1256.875, 'min_fitness': -9215},\n",
       "  49: {'max_fitness': 0, 'mean_fitness': -875.775, 'min_fitness': -8456},\n",
       "  50: {'max_fitness': 0, 'mean_fitness': -764.8, 'min_fitness': -8200}},\n",
       " 31,\n",
       " 0,\n",
       " {0: 0,\n",
       "  1: 0,\n",
       "  2: 1,\n",
       "  3: 0,\n",
       "  4: 1,\n",
       "  5: 0,\n",
       "  6: 1,\n",
       "  7: 0,\n",
       "  8: 1,\n",
       "  9: 1,\n",
       "  10: 0,\n",
       "  11: 1,\n",
       "  12: 0,\n",
       "  13: 1})"
      ]
     },
     "execution_count": 75,
     "metadata": {},
     "output_type": "execute_result"
    }
   ],
   "source": [
    "slots = 5\n",
    "GA.apply(secuencia_bits,slots)"
   ]
  },
  {
   "cell_type": "code",
   "execution_count": 76,
   "metadata": {
    "collapsed": true
   },
   "outputs": [],
   "source": [
    "def gene_factory_ex2(gene_type, fact_range):\n",
    "    if fact_range != list('abcdefghijklmnñopqrstuvwxyzABCDEFGHIJKLMNÑOPQRSTUVWXYZ ') or gene_type != str:\n",
    "        raise ValueError(\"Parámetros incorrectos\")\n",
    "    else:\n",
    "        gene = np.random.choice(fact_range)\n",
    "        return gene\n",
    "    \n",
    "def fitness_ex2(indv, objective):\n",
    "    vals = list(indv.values())\n",
    "    obj = list(objective)\n",
    "    hits =0\n",
    "    for i in range(len(vals)):\n",
    "        if vals[i] == obj[i]:\n",
    "            hits += 1   \n",
    "    return hits"
   ]
  },
  {
   "cell_type": "code",
   "execution_count": 81,
   "metadata": {},
   "outputs": [
    {
     "data": {
      "text/plain": [
       "({0: {'max_fitness': 1, 'mean_fitness': 0.2, 'min_fitness': 0},\n",
       "  1: {'max_fitness': 2, 'mean_fitness': 0.7, 'min_fitness': 0},\n",
       "  2: {'max_fitness': 2, 'mean_fitness': 1.125, 'min_fitness': 0},\n",
       "  3: {'max_fitness': 3, 'mean_fitness': 1.425, 'min_fitness': 0},\n",
       "  4: {'max_fitness': 4, 'mean_fitness': 1.975, 'min_fitness': 1},\n",
       "  5: {'max_fitness': 5, 'mean_fitness': 2.225, 'min_fitness': 0},\n",
       "  6: {'max_fitness': 4, 'mean_fitness': 2.375, 'min_fitness': 0},\n",
       "  7: {'max_fitness': 4, 'mean_fitness': 2.65, 'min_fitness': 1},\n",
       "  8: {'max_fitness': 5, 'mean_fitness': 3.025, 'min_fitness': 1},\n",
       "  9: {'max_fitness': 5, 'mean_fitness': 3.3, 'min_fitness': 1},\n",
       "  10: {'max_fitness': 5, 'mean_fitness': 3.35, 'min_fitness': 1},\n",
       "  11: {'max_fitness': 6, 'mean_fitness': 3.65, 'min_fitness': 1},\n",
       "  12: {'max_fitness': 6, 'mean_fitness': 4.175, 'min_fitness': 2},\n",
       "  13: {'max_fitness': 6, 'mean_fitness': 4.425, 'min_fitness': 2},\n",
       "  14: {'max_fitness': 7, 'mean_fitness': 4.3, 'min_fitness': 2},\n",
       "  15: {'max_fitness': 7, 'mean_fitness': 4.975, 'min_fitness': 3},\n",
       "  16: {'max_fitness': 8, 'mean_fitness': 5.125, 'min_fitness': 3},\n",
       "  17: {'max_fitness': 7, 'mean_fitness': 4.775, 'min_fitness': 2},\n",
       "  18: {'max_fitness': 7, 'mean_fitness': 4.675, 'min_fitness': 2},\n",
       "  19: {'max_fitness': 7, 'mean_fitness': 4.975, 'min_fitness': 3},\n",
       "  20: {'max_fitness': 7, 'mean_fitness': 5.05, 'min_fitness': 3},\n",
       "  21: {'max_fitness': 7, 'mean_fitness': 4.8, 'min_fitness': 3},\n",
       "  22: {'max_fitness': 7, 'mean_fitness': 4.9, 'min_fitness': 2},\n",
       "  23: {'max_fitness': 7, 'mean_fitness': 4.875, 'min_fitness': 0},\n",
       "  24: {'max_fitness': 7, 'mean_fitness': 5.3, 'min_fitness': 2},\n",
       "  25: {'max_fitness': 7, 'mean_fitness': 5.325, 'min_fitness': 3},\n",
       "  26: {'max_fitness': 8, 'mean_fitness': 5.475, 'min_fitness': 3},\n",
       "  27: {'max_fitness': 8, 'mean_fitness': 5.525, 'min_fitness': 3},\n",
       "  28: {'max_fitness': 7, 'mean_fitness': 5.425, 'min_fitness': 2},\n",
       "  29: {'max_fitness': 7, 'mean_fitness': 5.125, 'min_fitness': 3},\n",
       "  30: {'max_fitness': 9, 'mean_fitness': 5.05, 'min_fitness': 2},\n",
       "  31: {'max_fitness': 7, 'mean_fitness': 5.0, 'min_fitness': 2},\n",
       "  32: {'max_fitness': 7, 'mean_fitness': 4.975, 'min_fitness': 2},\n",
       "  33: {'max_fitness': 7, 'mean_fitness': 5.075, 'min_fitness': 3},\n",
       "  34: {'max_fitness': 7, 'mean_fitness': 4.825, 'min_fitness': 2},\n",
       "  35: {'max_fitness': 8, 'mean_fitness': 5.0, 'min_fitness': 3},\n",
       "  36: {'max_fitness': 8, 'mean_fitness': 5.05, 'min_fitness': 2},\n",
       "  37: {'max_fitness': 8, 'mean_fitness': 6.0, 'min_fitness': 2},\n",
       "  38: {'max_fitness': 8, 'mean_fitness': 6.4, 'min_fitness': 4},\n",
       "  39: {'max_fitness': 8, 'mean_fitness': 6.125, 'min_fitness': 4},\n",
       "  40: {'max_fitness': 8, 'mean_fitness': 5.65, 'min_fitness': 2},\n",
       "  41: {'max_fitness': 9, 'mean_fitness': 5.975, 'min_fitness': 3},\n",
       "  42: {'max_fitness': 9, 'mean_fitness': 5.575, 'min_fitness': 3},\n",
       "  43: {'max_fitness': 8, 'mean_fitness': 5.75, 'min_fitness': 2},\n",
       "  44: {'max_fitness': 8, 'mean_fitness': 5.85, 'min_fitness': 3},\n",
       "  45: {'max_fitness': 8, 'mean_fitness': 5.75, 'min_fitness': 1},\n",
       "  46: {'max_fitness': 8, 'mean_fitness': 6.075, 'min_fitness': 3},\n",
       "  47: {'max_fitness': 9, 'mean_fitness': 6.25, 'min_fitness': 4},\n",
       "  48: {'max_fitness': 8, 'mean_fitness': 6.175, 'min_fitness': 3},\n",
       "  49: {'max_fitness': 9, 'mean_fitness': 6.175, 'min_fitness': 4},\n",
       "  50: {'max_fitness': 8, 'mean_fitness': 5.85, 'min_fitness': 3},\n",
       "  51: {'max_fitness': 9, 'mean_fitness': 5.8, 'min_fitness': 3},\n",
       "  52: {'max_fitness': 9, 'mean_fitness': 5.775, 'min_fitness': 3},\n",
       "  53: {'max_fitness': 8, 'mean_fitness': 5.9, 'min_fitness': 3},\n",
       "  54: {'max_fitness': 9, 'mean_fitness': 5.725, 'min_fitness': 3},\n",
       "  55: {'max_fitness': 9, 'mean_fitness': 5.925, 'min_fitness': 3},\n",
       "  56: {'max_fitness': 8, 'mean_fitness': 6.125, 'min_fitness': 2},\n",
       "  57: {'max_fitness': 9, 'mean_fitness': 6.125, 'min_fitness': 3},\n",
       "  58: {'max_fitness': 9, 'mean_fitness': 6.225, 'min_fitness': 2},\n",
       "  59: {'max_fitness': 8, 'mean_fitness': 5.7, 'min_fitness': 2},\n",
       "  60: {'max_fitness': 8, 'mean_fitness': 6.025, 'min_fitness': 3},\n",
       "  61: {'max_fitness': 9, 'mean_fitness': 6.275, 'min_fitness': 4},\n",
       "  62: {'max_fitness': 9, 'mean_fitness': 5.825, 'min_fitness': 3},\n",
       "  63: {'max_fitness': 9, 'mean_fitness': 5.725, 'min_fitness': 2},\n",
       "  64: {'max_fitness': 8, 'mean_fitness': 5.925, 'min_fitness': 2},\n",
       "  65: {'max_fitness': 10, 'mean_fitness': 6.05, 'min_fitness': 2},\n",
       "  66: {'max_fitness': 9, 'mean_fitness': 6.4, 'min_fitness': 2},\n",
       "  67: {'max_fitness': 9, 'mean_fitness': 6.625, 'min_fitness': 4},\n",
       "  68: {'max_fitness': 9, 'mean_fitness': 6.725, 'min_fitness': 4},\n",
       "  69: {'max_fitness': 10, 'mean_fitness': 6.625, 'min_fitness': 3},\n",
       "  70: {'max_fitness': 9, 'mean_fitness': 6.675, 'min_fitness': 3}},\n",
       " 65,\n",
       " 10,\n",
       " {0: 'h',\n",
       "  1: 'e',\n",
       "  2: 'l',\n",
       "  3: 'l',\n",
       "  4: 'o',\n",
       "  5: 'w',\n",
       "  6: 'o',\n",
       "  7: 'r',\n",
       "  8: 'l',\n",
       "  9: 'd'})"
      ]
     },
     "execution_count": 81,
     "metadata": {},
     "output_type": "execute_result"
    }
   ],
   "source": [
    "# Prueba ejercicio 2\n",
    "frase = 'helloworld'\n",
    "pop_sz_0 = 40\n",
    "fit_fn = fitness_ex2 \n",
    "cr_genes = gene_factory_ex2\n",
    "cr_indv = indv_factory\n",
    "mut_rate = 0.2\n",
    "term_cond = {'max_fitness':10, 'iters':70} \n",
    "indv_chars = {}\n",
    "char_list = list('abcdefghijklmnñopqrstuvwxyzABCDEFGHIJKLMNÑOPQRSTUVWXYZ ')\n",
    "for i in range(len(frase)):\n",
    "    aux_dict = {}\n",
    "    aux_dict['gene_type'] = str\n",
    "    aux_dict['fact_range'] = char_list\n",
    "    indv_chars[i] = aux_dict.copy()\n",
    "GA = GENALG(pop_sz_0, fit_fn, cr_genes, cr_indv, mut_rate, term_cond, indv_chars)\n",
    "slots = 5\n",
    "GA.apply(frase,slots)"
   ]
  },
  {
   "cell_type": "code",
   "execution_count": 8,
   "metadata": {
    "collapsed": true
   },
   "outputs": [],
   "source": [
    "def gene_factory_ex3(gene_type, fact_range):\n",
    "    if fact_range != [0,15] or gene_type != int:\n",
    "        raise ValueError(\"Parámetros incorrectos\")\n",
    "    else:\n",
    "        gene = np.random.randint(fact_range[0], fact_range[1]+1)\n",
    "        return gene\n",
    "def indv_factory(gene_factory, indv_chars):    \n",
    "    vals = list(indv_chars.values())\n",
    "    num_genes = len(vals)\n",
    "    new_indv = {}\n",
    "    for i in range(num_genes):\n",
    "        new_indv[i] = gene_factory(indv_chars[i]['gene_type'],indv_chars[i]['fact_range'])\n",
    "    return new_indv    \n",
    "def fitness_ex3(indv, objective):    \n",
    "    vals = list(indv.values())\n",
    "    pesos = objective['pesos']\n",
    "    valores = objective['valores']\n",
    "    fitness = np.dot(vals,valores)\n",
    "    penalizacion = 0 \n",
    "    peso_total = np.dot(vals,pesos)\n",
    "    if peso_total > objective['capacidad']:\n",
    "        penalizacion = objective['castigo']*(peso_total - objective['capacidad']) \n",
    "    fitness -= penalizacion\n",
    "    return fitness"
   ]
  },
  {
   "cell_type": "code",
   "execution_count": 36,
   "metadata": {},
   "outputs": [
    {
     "data": {
      "text/plain": [
       "({0: {'max_fitness': -523, 'mean_fitness': -1845.45, 'min_fitness': -3380},\n",
       "  1: {'max_fitness': -161, 'mean_fitness': -1165.25, 'min_fitness': -3276},\n",
       "  2: {'max_fitness': -161, 'mean_fitness': -805.225, 'min_fitness': -2163},\n",
       "  3: {'max_fitness': 23, 'mean_fitness': -757.525, 'min_fitness': -2742},\n",
       "  4: {'max_fitness': 13, 'mean_fitness': -445.45, 'min_fitness': -2618},\n",
       "  5: {'max_fitness': 31, 'mean_fitness': -389.225, 'min_fitness': -2243},\n",
       "  6: {'max_fitness': 33, 'mean_fitness': -301.725, 'min_fitness': -2063},\n",
       "  7: {'max_fitness': 33, 'mean_fitness': -303.125, 'min_fitness': -2751},\n",
       "  8: {'max_fitness': 33, 'mean_fitness': -366.85, 'min_fitness': -2513},\n",
       "  9: {'max_fitness': 33, 'mean_fitness': -369.075, 'min_fitness': -2023},\n",
       "  10: {'max_fitness': 31, 'mean_fitness': -353.075, 'min_fitness': -2537},\n",
       "  11: {'max_fitness': 31, 'mean_fitness': -289.2, 'min_fitness': -2179},\n",
       "  12: {'max_fitness': 31, 'mean_fitness': -171.475, 'min_fitness': -703},\n",
       "  13: {'max_fitness': 31, 'mean_fitness': -255.675, 'min_fitness': -2056},\n",
       "  14: {'max_fitness': 31, 'mean_fitness': -150.4, 'min_fitness': -1158},\n",
       "  15: {'max_fitness': 33, 'mean_fitness': -282.675, 'min_fitness': -2446},\n",
       "  16: {'max_fitness': 31, 'mean_fitness': -372.675, 'min_fitness': -2594},\n",
       "  17: {'max_fitness': 31, 'mean_fitness': -483.125, 'min_fitness': -2978},\n",
       "  18: {'max_fitness': 31, 'mean_fitness': -419.4, 'min_fitness': -2718},\n",
       "  19: {'max_fitness': 31, 'mean_fitness': -369.425, 'min_fitness': -2513},\n",
       "  20: {'max_fitness': 32, 'mean_fitness': -305.525, 'min_fitness': -2178},\n",
       "  21: {'max_fitness': 32, 'mean_fitness': -285.975, 'min_fitness': -2604},\n",
       "  22: {'max_fitness': 33, 'mean_fitness': -398.475, 'min_fitness': -2706},\n",
       "  23: {'max_fitness': 33, 'mean_fitness': -441.6, 'min_fitness': -2776},\n",
       "  24: {'max_fitness': 32, 'mean_fitness': -328.05, 'min_fitness': -2620},\n",
       "  25: {'max_fitness': 34, 'mean_fitness': -430.925, 'min_fitness': -2485},\n",
       "  26: {'max_fitness': 34, 'mean_fitness': -343.325, 'min_fitness': -2143},\n",
       "  27: {'max_fitness': 32, 'mean_fitness': -427.0, 'min_fitness': -3221},\n",
       "  28: {'max_fitness': 34, 'mean_fitness': -295.275, 'min_fitness': -2404},\n",
       "  29: {'max_fitness': 34, 'mean_fitness': -344.075, 'min_fitness': -2184},\n",
       "  30: {'max_fitness': 34, 'mean_fitness': -245.775, 'min_fitness': -2404},\n",
       "  31: {'max_fitness': 34, 'mean_fitness': -462.125, 'min_fitness': -2990},\n",
       "  32: {'max_fitness': 34, 'mean_fitness': -255.4, 'min_fitness': -2548},\n",
       "  33: {'max_fitness': 34, 'mean_fitness': -428.425, 'min_fitness': -2704},\n",
       "  34: {'max_fitness': 34, 'mean_fitness': -465.3, 'min_fitness': -2663},\n",
       "  35: {'max_fitness': 34, 'mean_fitness': -324.15, 'min_fitness': -2266},\n",
       "  36: {'max_fitness': 34, 'mean_fitness': -322.525, 'min_fitness': -2658},\n",
       "  37: {'max_fitness': 36, 'mean_fitness': -294.25, 'min_fitness': -2606},\n",
       "  38: {'max_fitness': 36, 'mean_fitness': -194.175, 'min_fitness': -2606},\n",
       "  39: {'max_fitness': 36, 'mean_fitness': -356.6, 'min_fitness': -2645},\n",
       "  40: {'max_fitness': 36, 'mean_fitness': -400.875, 'min_fitness': -2892},\n",
       "  41: {'max_fitness': 34, 'mean_fitness': -240.35, 'min_fitness': -2509},\n",
       "  42: {'max_fitness': 34, 'mean_fitness': -209.075, 'min_fitness': -1902},\n",
       "  43: {'max_fitness': 34, 'mean_fitness': -357.75, 'min_fitness': -2254},\n",
       "  44: {'max_fitness': 34, 'mean_fitness': -224.55, 'min_fitness': -2254},\n",
       "  45: {'max_fitness': 34, 'mean_fitness': -249.9, 'min_fitness': -2606},\n",
       "  46: {'max_fitness': 34, 'mean_fitness': -262.925, 'min_fitness': -2500},\n",
       "  47: {'max_fitness': 34, 'mean_fitness': -275.875, 'min_fitness': -2430},\n",
       "  48: {'max_fitness': 34, 'mean_fitness': -260.4, 'min_fitness': -2541},\n",
       "  49: {'max_fitness': 34, 'mean_fitness': -227.35, 'min_fitness': -2296},\n",
       "  50: {'max_fitness': 34, 'mean_fitness': -392.8, 'min_fitness': -1902},\n",
       "  51: {'max_fitness': 34, 'mean_fitness': -311.0, 'min_fitness': -2830},\n",
       "  52: {'max_fitness': 34, 'mean_fitness': -498.125, 'min_fitness': -2914},\n",
       "  53: {'max_fitness': 34, 'mean_fitness': -340.1, 'min_fitness': -2443},\n",
       "  54: {'max_fitness': 34, 'mean_fitness': -313.975, 'min_fitness': -2654},\n",
       "  55: {'max_fitness': 34, 'mean_fitness': -340.825, 'min_fitness': -2430},\n",
       "  56: {'max_fitness': 34, 'mean_fitness': -240.35, 'min_fitness': -1902},\n",
       "  57: {'max_fitness': 34, 'mean_fitness': -500.55, 'min_fitness': -2478},\n",
       "  58: {'max_fitness': 34, 'mean_fitness': -488.375, 'min_fitness': -2472},\n",
       "  59: {'max_fitness': 34, 'mean_fitness': -447.5, 'min_fitness': -2670},\n",
       "  60: {'max_fitness': 34, 'mean_fitness': -428.65, 'min_fitness': -2514},\n",
       "  61: {'max_fitness': 34, 'mean_fitness': -389.55, 'min_fitness': -2457},\n",
       "  62: {'max_fitness': 34, 'mean_fitness': -416.825, 'min_fitness': -2839},\n",
       "  63: {'max_fitness': 34, 'mean_fitness': -344.675, 'min_fitness': -2606},\n",
       "  64: {'max_fitness': 34, 'mean_fitness': -358.4, 'min_fitness': -2398},\n",
       "  65: {'max_fitness': 34, 'mean_fitness': -241.275, 'min_fitness': -2756},\n",
       "  66: {'max_fitness': 34, 'mean_fitness': -459.875, 'min_fitness': -2606},\n",
       "  67: {'max_fitness': 34, 'mean_fitness': -329.9, 'min_fitness': -2580},\n",
       "  68: {'max_fitness': 34, 'mean_fitness': -302.875, 'min_fitness': -2078},\n",
       "  69: {'max_fitness': 34, 'mean_fitness': -310.375, 'min_fitness': -2676},\n",
       "  70: {'max_fitness': 34, 'mean_fitness': -384.15, 'min_fitness': -2950}},\n",
       " 3,\n",
       " 36,\n",
       " {0: 0, 1: 0, 2: 3, 3: 0, 4: 3})"
      ]
     },
     "execution_count": 36,
     "metadata": {},
     "output_type": "execute_result"
    }
   ],
   "source": [
    "# Prueba ejercicio 3\n",
    "pesos = [12,2,1,1,4]\n",
    "valores = [4,2,2,1,10]\n",
    "capacidad = 15\n",
    "castigo = 15\n",
    "fit_params ={'pesos':pesos, 'valores':valores, 'capacidad':capacidad, 'castigo':castigo}\n",
    "pop_sz_0 = 40\n",
    "fit_fn = fitness_ex3 \n",
    "cr_genes = gene_factory_ex3\n",
    "cr_indv = indv_factory\n",
    "mut_rate = 0.2\n",
    "term_cond = {'max_fitness':10, 'iters':70} \n",
    "indv_chars = {}\n",
    "for i in range(len(pesos)):\n",
    "    aux_dict = {}\n",
    "    aux_dict['gene_type'] = int\n",
    "    aux_dict['fact_range'] = [0,15]\n",
    "    indv_chars[i] = aux_dict.copy()\n",
    "GA = GENALG(pop_sz_0, fit_fn, cr_genes, cr_indv, mut_rate, term_cond, indv_chars)\n",
    "slots=5\n",
    "GA.apply(fit_params, slots)"
   ]
  },
  {
   "cell_type": "code",
   "execution_count": 37,
   "metadata": {
    "collapsed": true
   },
   "outputs": [],
   "source": [
    "# Prueba ejercicio 3\n",
    "pesos = [12,2,1,1,4]\n",
    "valores = [4,2,2,1,10]\n",
    "capacidad = 15\n",
    "castigo = 100\n",
    "fit_params ={'pesos':pesos, 'valores':valores, 'capacidad':capacidad, 'castigo':castigo}\n",
    "pop_sz_0 = 40\n",
    "fit_fn = fitness_ex3 \n",
    "cr_genes = gene_factory_ex3\n",
    "cr_indv = indv_factory\n",
    "mut_rate = 0.2\n",
    "term_cond = {'max_fitness':10, 'iters':70} \n",
    "indv_chars = {}\n",
    "for i in range(len(pesos)):\n",
    "    aux_dict = {}\n",
    "    aux_dict['gene_type'] = int\n",
    "    aux_dict['fact_range'] = [0,15]\n",
    "    indv_chars[i] = aux_dict.copy()\n",
    "GA = GENALG(pop_sz_0, fit_fn, cr_genes, cr_indv, mut_rate, term_cond, indv_chars)\n",
    "slots=5\n",
    "generations, goal_cross, overall_max_fitness, overall_fittest_indv = GA.apply(fit_params, slots)"
   ]
  },
  {
   "cell_type": "code",
   "execution_count": 38,
   "metadata": {},
   "outputs": [],
   "source": [
    "x = list(generations.keys())\n",
    "vals = list(generations.values())\n",
    "max_fit = [item['max_fitness'] for item in vals]\n",
    "mean_fit = [item['mean_fitness'] for item in vals]\n",
    "min_fit = [item['min_fitness'] for item in vals]"
   ]
  },
  {
   "cell_type": "code",
   "execution_count": 39,
   "metadata": {
    "collapsed": true
   },
   "outputs": [],
   "source": [
    "import matplotlib.pyplot as plt"
   ]
  },
  {
   "cell_type": "code",
   "execution_count": 99,
   "metadata": {},
   "outputs": [
    {
     "data": {
      "image/png": "[encoded data removed]",
      "text/plain": [
       "<Figure size 1080x1080 with 1 Axes>"
      ]
     },
     "metadata": {},
     "output_type": "display_data"
    }
   ],
   "source": [
    "fig= plt.figure(figsize=(15,15))\n",
    "plt.plot( x,  max_fit, marker='o', markerfacecolor='blue', markersize=12, color='skyblue', linewidth=4,label='max_fit')\n",
    "plt.plot( x,  mean_fit, marker='', color='olive', linewidth=2,label='mean_fit')\n",
    "plt.plot( x,  min_fit, marker='', color='olive', linewidth=2, linestyle='dashed', label='min_fit')\n",
    "plt.title(\"Evolución de fitness por generación\", fontsize=16, fontweight='bold')\n",
    "#plt.suptitle(\"Random Walk Suptitle\", fontsize=10)\n",
    "plt.xlabel(\"Generación\", fontsize=15)\n",
    "plt.ylabel(\"Fitness\", fontsize=15)\n",
    "plt.legend()\n",
    "plt.savefig('Images\\Fitness_por_Generacion.png')\n",
    "plt.show()\n"
   ]
  },
  {
   "cell_type": "code",
   "execution_count": 74,
   "metadata": {},
   "outputs": [
    {
     "data": {
      "text/plain": [
       "[0.0, 0.1, 0.2, 0.3, 0.4, 0.5, 0.6, 0.7, 0.8, 0.9, 1.0]"
      ]
     },
     "execution_count": 74,
     "metadata": {},
     "output_type": "execute_result"
    }
   ],
   "source": [
    "mut_rates = [i/10 for i in range(11)]\n",
    "mut_rates"
   ]
  },
  {
   "cell_type": "code",
   "execution_count": 62,
   "metadata": {},
   "outputs": [],
   "source": [
    "# Prueba ejercicio 3\n",
    "pesos = [12,2,1,1,4]\n",
    "valores = [4,2,2,1,10]\n",
    "capacidad = 15\n",
    "castigo = 100\n",
    "fit_params ={'pesos':pesos, 'valores':valores, 'capacidad':capacidad, 'castigo':castigo}\n",
    "pop_sizes = [50*i for i in range(1,21)]\n",
    "mut_rates = [i/10 for i in range(11)]\n",
    "fit_fn = fitness_ex3 \n",
    "cr_genes = gene_factory_ex3\n",
    "cr_indv = indv_factory\n",
    "term_cond = {'max_fitness':36, 'iters':70} \n",
    "indv_chars = {}\n",
    "for i in range(len(pesos)):\n",
    "    aux_dict = {}\n",
    "    aux_dict['gene_type'] = int\n",
    "    aux_dict['fact_range'] = [0,15]\n",
    "    indv_chars[i] = aux_dict.copy()\n",
    "res = []\n",
    "for rt in mut_rates:    \n",
    "    mut_rate = rt\n",
    "    res_rt = []\n",
    "    for item in pop_sizes:\n",
    "        pop_sz_0 = item\n",
    "        GA = GENALG(pop_sz_0, fit_fn, cr_genes, cr_indv, mut_rate, term_cond, indv_chars)\n",
    "        slots=5\n",
    "        generations, goal_cross, overall_max_fitness, overall_fittest_indv = GA.apply(fit_params, slots)\n",
    "        res_rt.append(goal_cross)\n",
    "    res.append(res_rt[:])"
   ]
  },
  {
   "cell_type": "code",
   "execution_count": 97,
   "metadata": {},
   "outputs": [
    {
     "data": {
      "image/png": "[encoded data removed]",
      "text/plain": [
       "<Figure size 1080x720 with 2 Axes>"
      ]
     },
     "metadata": {},
     "output_type": "display_data"
    }
   ],
   "source": [
    "import seaborn as sns\n",
    "sns.set()\n",
    "fig = plt.figure(figsize=(15,10))\n",
    "ax = sns.heatmap(data, annot=True, fmt=\"d\",linewidths=.5, xticklabels =pop_sizes, yticklabels=mut_rates)\n",
    "plt.title(\"Heatmap de configuraciones\", fontsize=16, fontweight='bold')\n",
    "plt.xlabel(\"Tamaño de Población\", fontsize=15)\n",
    "plt.ylabel(\"Tasa de Mutación\", fontsize=15)\n",
    "plt.savefig('Images\\Heatmap.png')\n",
    "plt.show()"
   ]
  },
  {
   "cell_type": "code",
   "execution_count": 55,
   "metadata": {},
   "outputs": [
    {
     "data": {
      "image/png": "[encoded data removed]",
      "text/plain": [
       "<Figure size 864x720 with 2 Axes>"
      ]
     },
     "metadata": {},
     "output_type": "display_data"
    }
   ],
   "source": [
    "\n",
    "uniform_data = np.random.rand(10, 12)\n",
    "fig = plt.figure(figsize=(12,10))\n",
    "ax = sns.heatmap(uniform_data)\n",
    "plt.show()"
   ]
  },
  {
   "cell_type": "code",
   "execution_count": 63,
   "metadata": {
    "collapsed": true
   },
   "outputs": [],
   "source": [
    "data = np.array(res)"
   ]
  },
  {
   "cell_type": "code",
   "execution_count": null,
   "metadata": {
    "collapsed": true
   },
   "outputs": [],
   "source": []
  },
  {
   "cell_type": "code",
   "execution_count": 68,
   "metadata": {},
   "outputs": [
    {
     "data": {
      "image/png": "[encoded data removed]",
      "text/plain": [
       "<Figure size 432x288 with 2 Axes>"
      ]
     },
     "metadata": {},
     "output_type": "display_data"
    }
   ],
   "source": [
    "flights = sns.load_dataset(\"flights\")\n",
    "flights = flights.pivot(\"month\", \"year\", \"passengers\")\n",
    "ax = sns.heatmap(flights)\n",
    "plt.show()"
   ]
  },
  {
   "cell_type": "code",
   "execution_count": 69,
   "metadata": {},
   "outputs": [
    {
     "data": {
      "text/html": [
       "<div>\n",
       "<style>\n",
       "    .dataframe thead tr:only-child th {\n",
       "        text-align: right;\n",
       "    }\n",
       "\n",
       "    .dataframe thead th {\n",
       "        text-align: left;\n",
       "    }\n",
       "\n",
       "    .dataframe tbody tr th {\n",
       "        vertical-align: top;\n",
       "    }\n",
       "</style>\n",
       "<table border=\"1\" class=\"dataframe\">\n",
       "  <thead>\n",
       "    <tr style=\"text-align: right;\">\n",
       "      <th>year</th>\n",
       "      <th>1949</th>\n",
       "      <th>1950</th>\n",
       "      <th>1951</th>\n",
       "      <th>1952</th>\n",
       "      <th>1953</th>\n",
       "      <th>1954</th>\n",
       "      <th>1955</th>\n",
       "      <th>1956</th>\n",
       "      <th>1957</th>\n",
       "      <th>1958</th>\n",
       "      <th>1959</th>\n",
       "      <th>1960</th>\n",
       "    </tr>\n",
       "    <tr>\n",
       "      <th>month</th>\n",
       "      <th></th>\n",
       "      <th></th>\n",
       "      <th></th>\n",
       "      <th></th>\n",
       "      <th></th>\n",
       "      <th></th>\n",
       "      <th></th>\n",
       "      <th></th>\n",
       "      <th></th>\n",
       "      <th></th>\n",
       "      <th></th>\n",
       "      <th></th>\n",
       "    </tr>\n",
       "  </thead>\n",
       "  <tbody>\n",
       "    <tr>\n",
       "      <th>January</th>\n",
       "      <td>112</td>\n",
       "      <td>115</td>\n",
       "      <td>145</td>\n",
       "      <td>171</td>\n",
       "      <td>196</td>\n",
       "      <td>204</td>\n",
       "      <td>242</td>\n",
       "      <td>284</td>\n",
       "      <td>315</td>\n",
       "      <td>340</td>\n",
       "      <td>360</td>\n",
       "      <td>417</td>\n",
       "    </tr>\n",
       "    <tr>\n",
       "      <th>February</th>\n",
       "      <td>118</td>\n",
       "      <td>126</td>\n",
       "      <td>150</td>\n",
       "      <td>180</td>\n",
       "      <td>196</td>\n",
       "      <td>188</td>\n",
       "      <td>233</td>\n",
       "      <td>277</td>\n",
       "      <td>301</td>\n",
       "      <td>318</td>\n",
       "      <td>342</td>\n",
       "      <td>391</td>\n",
       "    </tr>\n",
       "    <tr>\n",
       "      <th>March</th>\n",
       "      <td>132</td>\n",
       "      <td>141</td>\n",
       "      <td>178</td>\n",
       "      <td>193</td>\n",
       "      <td>236</td>\n",
       "      <td>235</td>\n",
       "      <td>267</td>\n",
       "      <td>317</td>\n",
       "      <td>356</td>\n",
       "      <td>362</td>\n",
       "      <td>406</td>\n",
       "      <td>419</td>\n",
       "    </tr>\n",
       "    <tr>\n",
       "      <th>April</th>\n",
       "      <td>129</td>\n",
       "      <td>135</td>\n",
       "      <td>163</td>\n",
       "      <td>181</td>\n",
       "      <td>235</td>\n",
       "      <td>227</td>\n",
       "      <td>269</td>\n",
       "      <td>313</td>\n",
       "      <td>348</td>\n",
       "      <td>348</td>\n",
       "      <td>396</td>\n",
       "      <td>461</td>\n",
       "    </tr>\n",
       "    <tr>\n",
       "      <th>May</th>\n",
       "      <td>121</td>\n",
       "      <td>125</td>\n",
       "      <td>172</td>\n",
       "      <td>183</td>\n",
       "      <td>229</td>\n",
       "      <td>234</td>\n",
       "      <td>270</td>\n",
       "      <td>318</td>\n",
       "      <td>355</td>\n",
       "      <td>363</td>\n",
       "      <td>420</td>\n",
       "      <td>472</td>\n",
       "    </tr>\n",
       "    <tr>\n",
       "      <th>June</th>\n",
       "      <td>135</td>\n",
       "      <td>149</td>\n",
       "      <td>178</td>\n",
       "      <td>218</td>\n",
       "      <td>243</td>\n",
       "      <td>264</td>\n",
       "      <td>315</td>\n",
       "      <td>374</td>\n",
       "      <td>422</td>\n",
       "      <td>435</td>\n",
       "      <td>472</td>\n",
       "      <td>535</td>\n",
       "    </tr>\n",
       "    <tr>\n",
       "      <th>July</th>\n",
       "      <td>148</td>\n",
       "      <td>170</td>\n",
       "      <td>199</td>\n",
       "      <td>230</td>\n",
       "      <td>264</td>\n",
       "      <td>302</td>\n",
       "      <td>364</td>\n",
       "      <td>413</td>\n",
       "      <td>465</td>\n",
       "      <td>491</td>\n",
       "      <td>548</td>\n",
       "      <td>622</td>\n",
       "    </tr>\n",
       "    <tr>\n",
       "      <th>August</th>\n",
       "      <td>148</td>\n",
       "      <td>170</td>\n",
       "      <td>199</td>\n",
       "      <td>242</td>\n",
       "      <td>272</td>\n",
       "      <td>293</td>\n",
       "      <td>347</td>\n",
       "      <td>405</td>\n",
       "      <td>467</td>\n",
       "      <td>505</td>\n",
       "      <td>559</td>\n",
       "      <td>606</td>\n",
       "    </tr>\n",
       "    <tr>\n",
       "      <th>September</th>\n",
       "      <td>136</td>\n",
       "      <td>158</td>\n",
       "      <td>184</td>\n",
       "      <td>209</td>\n",
       "      <td>237</td>\n",
       "      <td>259</td>\n",
       "      <td>312</td>\n",
       "      <td>355</td>\n",
       "      <td>404</td>\n",
       "      <td>404</td>\n",
       "      <td>463</td>\n",
       "      <td>508</td>\n",
       "    </tr>\n",
       "    <tr>\n",
       "      <th>October</th>\n",
       "      <td>119</td>\n",
       "      <td>133</td>\n",
       "      <td>162</td>\n",
       "      <td>191</td>\n",
       "      <td>211</td>\n",
       "      <td>229</td>\n",
       "      <td>274</td>\n",
       "      <td>306</td>\n",
       "      <td>347</td>\n",
       "      <td>359</td>\n",
       "      <td>407</td>\n",
       "      <td>461</td>\n",
       "    </tr>\n",
       "    <tr>\n",
       "      <th>November</th>\n",
       "      <td>104</td>\n",
       "      <td>114</td>\n",
       "      <td>146</td>\n",
       "      <td>172</td>\n",
       "      <td>180</td>\n",
       "      <td>203</td>\n",
       "      <td>237</td>\n",
       "      <td>271</td>\n",
       "      <td>305</td>\n",
       "      <td>310</td>\n",
       "      <td>362</td>\n",
       "      <td>390</td>\n",
       "    </tr>\n",
       "    <tr>\n",
       "      <th>December</th>\n",
       "      <td>118</td>\n",
       "      <td>140</td>\n",
       "      <td>166</td>\n",
       "      <td>194</td>\n",
       "      <td>201</td>\n",
       "      <td>229</td>\n",
       "      <td>278</td>\n",
       "      <td>306</td>\n",
       "      <td>336</td>\n",
       "      <td>337</td>\n",
       "      <td>405</td>\n",
       "      <td>432</td>\n",
       "    </tr>\n",
       "  </tbody>\n",
       "</table>\n",
       "</div>"
      ],
      "text/plain": [
       "year       1949  1950  1951  1952  1953  1954  1955  1956  1957  1958  1959  \\\n",
       "month                                                                         \n",
       "January     112   115   145   171   196   204   242   284   315   340   360   \n",
       "February    118   126   150   180   196   188   233   277   301   318   342   \n",
       "March       132   141   178   193   236   235   267   317   356   362   406   \n",
       "April       129   135   163   181   235   227   269   313   348   348   396   \n",
       "May         121   125   172   183   229   234   270   318   355   363   420   \n",
       "June        135   149   178   218   243   264   315   374   422   435   472   \n",
       "July        148   170   199   230   264   302   364   413   465   491   548   \n",
       "August      148   170   199   242   272   293   347   405   467   505   559   \n",
       "September   136   158   184   209   237   259   312   355   404   404   463   \n",
       "October     119   133   162   191   211   229   274   306   347   359   407   \n",
       "November    104   114   146   172   180   203   237   271   305   310   362   \n",
       "December    118   140   166   194   201   229   278   306   336   337   405   \n",
       "\n",
       "year       1960  \n",
       "month            \n",
       "January     417  \n",
       "February    391  \n",
       "March       419  \n",
       "April       461  \n",
       "May         472  \n",
       "June        535  \n",
       "July        622  \n",
       "August      606  \n",
       "September   508  \n",
       "October     461  \n",
       "November    390  \n",
       "December    432  "
      ]
     },
     "execution_count": 69,
     "metadata": {},
     "output_type": "execute_result"
    }
   ],
   "source": [
    "flights"
   ]
  },
  {
   "cell_type": "code",
   "execution_count": null,
   "metadata": {
    "collapsed": true
   },
   "outputs": [],
   "source": []
  },
  {
   "cell_type": "code",
   "execution_count": null,
   "metadata": {
    "collapsed": true
   },
   "outputs": [],
   "source": []
  },
  {
   "cell_type": "code",
   "execution_count": null,
   "metadata": {
    "collapsed": true
   },
   "outputs": [],
   "source": []
  },
  {
   "cell_type": "code",
   "execution_count": 57,
   "metadata": {
    "collapsed": true
   },
   "outputs": [],
   "source": [
    "pop_sizes = [50*i for i in range(1,21)]\n",
    "mut_rates = [0.1* i for i in range(11)]"
   ]
  },
  {
   "cell_type": "code",
   "execution_count": 60,
   "metadata": {},
   "outputs": [
    {
     "data": {
      "text/plain": [
       "1000"
      ]
     },
     "execution_count": 60,
     "metadata": {},
     "output_type": "execute_result"
    }
   ],
   "source": [
    "pop_sizes[-1]"
   ]
  },
  {
   "cell_type": "code",
   "execution_count": null,
   "metadata": {
    "collapsed": true
   },
   "outputs": [],
   "source": [
    "def gene_factory(gene_type, fact_range=None):\n",
    "    if type(fact_range) is not list:\n",
    "            raise ValueError(\"Debe entregar una lista con el rango de valores factible\")\n",
    "    else:\n",
    "        if gene_type == int: \n",
    "            new_gene = np.random.randint(fact_range[0], fact_range[1]+1)\n",
    "            return new_gene\n",
    "        elif gene_type == str:\n",
    "            new_gene = np.random.choice(fact_range)\n",
    "            return new_gene\n",
    "        elif gene_type == 'binary':\n",
    "            new_gene = np.random.choice(fact_range)\n",
    "            return new_gene\n",
    "        elif gene_type == float:\n",
    "            new_gene = np.random.rand() * (fact_range[1] - fact_range[0]) + fact_range[0]\n",
    "            return new_gene\n",
    "        \n",
    "   "
   ]
  },
  {
   "cell_type": "code",
   "execution_count": null,
   "metadata": {
    "collapsed": true
   },
   "outputs": [],
   "source": [
    "import numpy as np\n",
    "np.random.seed(0)\n",
    "def f_1():\n",
    "    return np.random.rand()"
   ]
  },
  {
   "cell_type": "code",
   "execution_count": null,
   "metadata": {
    "collapsed": true
   },
   "outputs": [],
   "source": [
    "f_1()"
   ]
  },
  {
   "cell_type": "code",
   "execution_count": null,
   "metadata": {
    "collapsed": true
   },
   "outputs": [],
   "source": [
    "f_1()"
   ]
  },
  {
   "cell_type": "code",
   "execution_count": 23,
   "metadata": {},
   "outputs": [
    {
     "data": {
      "text/plain": [
       "True"
      ]
     },
     "execution_count": 23,
     "metadata": {},
     "output_type": "execute_result"
    }
   ],
   "source": [
    "type(1)==int"
   ]
  },
  {
   "cell_type": "code",
   "execution_count": 24,
   "metadata": {},
   "outputs": [
    {
     "data": {
      "text/plain": [
       "<function bin>"
      ]
     },
     "execution_count": 24,
     "metadata": {},
     "output_type": "execute_result"
    }
   ],
   "source": []
  },
  {
   "cell_type": "code",
   "execution_count": null,
   "metadata": {
    "collapsed": true
   },
   "outputs": [],
   "source": [
    "a = None"
   ]
  },
  {
   "cell_type": "code",
   "execution_count": null,
   "metadata": {
    "collapsed": true
   },
   "outputs": [],
   "source": [
    "a is None"
   ]
  },
  {
   "cell_type": "code",
   "execution_count": null,
   "metadata": {
    "collapsed": true
   },
   "outputs": [],
   "source": [
    "np.inf"
   ]
  },
  {
   "cell_type": "code",
   "execution_count": null,
   "metadata": {
    "collapsed": true
   },
   "outputs": [],
   "source": [
    "3>-np.inf"
   ]
  },
  {
   "cell_type": "code",
   "execution_count": null,
   "metadata": {
    "collapsed": true
   },
   "outputs": [],
   "source": [
    "np.random.randint(0, 100,5)"
   ]
  },
  {
   "cell_type": "code",
   "execution_count": null,
   "metadata": {
    "collapsed": true
   },
   "outputs": [],
   "source": [
    "a= {0:10,1:20}"
   ]
  },
  {
   "cell_type": "code",
   "execution_count": null,
   "metadata": {
    "collapsed": true
   },
   "outputs": [],
   "source": [
    "list(a.values())\n"
   ]
  },
  {
   "cell_type": "code",
   "execution_count": 4,
   "metadata": {
    "collapsed": true
   },
   "outputs": [],
   "source": [
    "import numpy as np"
   ]
  },
  {
   "cell_type": "code",
   "execution_count": null,
   "metadata": {
    "collapsed": true
   },
   "outputs": [],
   "source": [
    "np.random.rand()"
   ]
  },
  {
   "cell_type": "code",
   "execution_count": 1,
   "metadata": {
    "collapsed": true
   },
   "outputs": [],
   "source": [
    "a=[1,2,3,4]\n",
    "b=[1,2,3,4]"
   ]
  },
  {
   "cell_type": "code",
   "execution_count": 6,
   "metadata": {},
   "outputs": [
    {
     "data": {
      "text/plain": [
       "30"
      ]
     },
     "execution_count": 6,
     "metadata": {},
     "output_type": "execute_result"
    }
   ],
   "source": [
    "np.dot(a,b)"
   ]
  },
  {
   "cell_type": "code",
   "execution_count": null,
   "metadata": {
    "collapsed": true
   },
   "outputs": [],
   "source": [
    "np.mean(a)"
   ]
  },
  {
   "cell_type": "code",
   "execution_count": 3,
   "metadata": {},
   "outputs": [
    {
     "data": {
      "text/plain": [
       "True"
      ]
     },
     "execution_count": 3,
     "metadata": {},
     "output_type": "execute_result"
    }
   ],
   "source": [
    "type(a) is list"
   ]
  },
  {
   "cell_type": "code",
   "execution_count": 6,
   "metadata": {},
   "outputs": [
    {
     "data": {
      "text/plain": [
       "1"
      ]
     },
     "execution_count": 6,
     "metadata": {},
     "output_type": "execute_result"
    }
   ],
   "source": [
    "np.random.choice([0,1])"
   ]
  },
  {
   "cell_type": "code",
   "execution_count": 7,
   "metadata": {},
   "outputs": [
    {
     "data": {
      "text/plain": [
       "1"
      ]
     },
     "execution_count": 7,
     "metadata": {},
     "output_type": "execute_result"
    }
   ],
   "source": [
    "np.random.choice([0,1])"
   ]
  },
  {
   "cell_type": "code",
   "execution_count": 8,
   "metadata": {},
   "outputs": [
    {
     "data": {
      "text/plain": [
       "1"
      ]
     },
     "execution_count": 8,
     "metadata": {},
     "output_type": "execute_result"
    }
   ],
   "source": [
    "np.random.choice([0,1])"
   ]
  },
  {
   "cell_type": "code",
   "execution_count": 9,
   "metadata": {},
   "outputs": [
    {
     "data": {
      "text/plain": [
       "0"
      ]
     },
     "execution_count": 9,
     "metadata": {},
     "output_type": "execute_result"
    }
   ],
   "source": [
    "np.random.choice([0,1])"
   ]
  },
  {
   "cell_type": "code",
   "execution_count": 10,
   "metadata": {},
   "outputs": [
    {
     "data": {
      "text/plain": [
       "1"
      ]
     },
     "execution_count": 10,
     "metadata": {},
     "output_type": "execute_result"
    }
   ],
   "source": [
    "np.random.choice([0,1])"
   ]
  },
  {
   "cell_type": "code",
   "execution_count": 11,
   "metadata": {},
   "outputs": [
    {
     "data": {
      "text/plain": [
       "0"
      ]
     },
     "execution_count": 11,
     "metadata": {},
     "output_type": "execute_result"
    }
   ],
   "source": [
    "np.random.choice([0,1])"
   ]
  },
  {
   "cell_type": "code",
   "execution_count": 19,
   "metadata": {
    "collapsed": true
   },
   "outputs": [],
   "source": [
    "a ='abcdefghijklmnñopqrstuvwxyzABCDEFGHIJKLMNÑOPQRSTUVWXYZ '\n",
    "b = list(a)\n"
   ]
  },
  {
   "cell_type": "code",
   "execution_count": 20,
   "metadata": {},
   "outputs": [
    {
     "data": {
      "text/plain": [
       "['a',\n",
       " 'b',\n",
       " 'c',\n",
       " 'd',\n",
       " 'e',\n",
       " 'f',\n",
       " 'g',\n",
       " 'h',\n",
       " 'i',\n",
       " 'j',\n",
       " 'k',\n",
       " 'l',\n",
       " 'm',\n",
       " 'n',\n",
       " 'ñ',\n",
       " 'o',\n",
       " 'p',\n",
       " 'q',\n",
       " 'r',\n",
       " 's',\n",
       " 't',\n",
       " 'u',\n",
       " 'v',\n",
       " 'w',\n",
       " 'x',\n",
       " 'y',\n",
       " 'z',\n",
       " 'A',\n",
       " 'B',\n",
       " 'C',\n",
       " 'D',\n",
       " 'E',\n",
       " 'F',\n",
       " 'G',\n",
       " 'H',\n",
       " 'I',\n",
       " 'J',\n",
       " 'K',\n",
       " 'L',\n",
       " 'M',\n",
       " 'N',\n",
       " 'Ñ',\n",
       " 'O',\n",
       " 'P',\n",
       " 'Q',\n",
       " 'R',\n",
       " 'S',\n",
       " 'T',\n",
       " 'U',\n",
       " 'V',\n",
       " 'W',\n",
       " 'X',\n",
       " 'Y',\n",
       " 'Z',\n",
       " ' ']"
      ]
     },
     "execution_count": 20,
     "metadata": {},
     "output_type": "execute_result"
    }
   ],
   "source": [
    "b"
   ]
  },
  {
   "cell_type": "code",
   "execution_count": 15,
   "metadata": {},
   "outputs": [
    {
     "data": {
      "text/plain": [
       "['a',\n",
       " 'b',\n",
       " 'c',\n",
       " 'd',\n",
       " 'e',\n",
       " 'f',\n",
       " 'g',\n",
       " 'h',\n",
       " 'i',\n",
       " 'j',\n",
       " 'k',\n",
       " 'l',\n",
       " 'm',\n",
       " 'n',\n",
       " 'ñ',\n",
       " 'o',\n",
       " 'p',\n",
       " 'q',\n",
       " 'r',\n",
       " 's',\n",
       " 't',\n",
       " 'u',\n",
       " 'v',\n",
       " 'w',\n",
       " 'x',\n",
       " 'y',\n",
       " 'z',\n",
       " 'A',\n",
       " 'B',\n",
       " 'C',\n",
       " 'D',\n",
       " 'E',\n",
       " 'F',\n",
       " 'G',\n",
       " 'H',\n",
       " 'I',\n",
       " 'J',\n",
       " 'K',\n",
       " 'L',\n",
       " 'M',\n",
       " 'N',\n",
       " 'Ñ',\n",
       " 'O',\n",
       " 'P',\n",
       " 'Q',\n",
       " 'R',\n",
       " 'S',\n",
       " 'T',\n",
       " 'U',\n",
       " 'V',\n",
       " 'W',\n",
       " 'X',\n",
       " 'Y',\n",
       " 'Z']"
      ]
     },
     "execution_count": 15,
     "metadata": {},
     "output_type": "execute_result"
    }
   ],
   "source": [
    "list(a)"
   ]
  },
  {
   "cell_type": "code",
   "execution_count": 22,
   "metadata": {},
   "outputs": [
    {
     "ename": "ValueError",
     "evalue": "a must be 1-dimensional or an integer",
     "output_type": "error",
     "traceback": [
      "\u001b[1;31m---------------------------------------------------------------------------\u001b[0m",
      "\u001b[1;31mTypeError\u001b[0m                                 Traceback (most recent call last)",
      "\u001b[1;32mmtrand.pyx\u001b[0m in \u001b[0;36mmtrand.RandomState.choice\u001b[1;34m()\u001b[0m\n",
      "\u001b[1;31mTypeError\u001b[0m: 'str' object cannot be interpreted as an integer",
      "\nDuring handling of the above exception, another exception occurred:\n",
      "\u001b[1;31mValueError\u001b[0m                                Traceback (most recent call last)",
      "\u001b[1;32m<ipython-input-22-26f99c29e307>\u001b[0m in \u001b[0;36m<module>\u001b[1;34m()\u001b[0m\n\u001b[1;32m----> 1\u001b[1;33m \u001b[0mnp\u001b[0m\u001b[1;33m.\u001b[0m\u001b[0mrandom\u001b[0m\u001b[1;33m.\u001b[0m\u001b[0mchoice\u001b[0m\u001b[1;33m(\u001b[0m\u001b[1;34m'cat'\u001b[0m\u001b[1;33m)\u001b[0m\u001b[1;33m\u001b[0m\u001b[0m\n\u001b[0m",
      "\u001b[1;32mmtrand.pyx\u001b[0m in \u001b[0;36mmtrand.RandomState.choice\u001b[1;34m()\u001b[0m\n",
      "\u001b[1;31mValueError\u001b[0m: a must be 1-dimensional or an integer"
     ]
    }
   ],
   "source": [
    "np.random.choice('cat')"
   ]
  },
  {
   "cell_type": "code",
   "execution_count": 28,
   "metadata": {
    "collapsed": true
   },
   "outputs": [],
   "source": [
    "a =[0,1,1,0,1,1,1]"
   ]
  },
  {
   "cell_type": "code",
   "execution_count": 29,
   "metadata": {
    "collapsed": true
   },
   "outputs": [],
   "source": [
    "b = ''.join(str(i) for i in a)"
   ]
  },
  {
   "cell_type": "code",
   "execution_count": 30,
   "metadata": {},
   "outputs": [
    {
     "data": {
      "text/plain": [
       "'0110111'"
      ]
     },
     "execution_count": 30,
     "metadata": {},
     "output_type": "execute_result"
    }
   ],
   "source": [
    "b"
   ]
  },
  {
   "cell_type": "code",
   "execution_count": 31,
   "metadata": {},
   "outputs": [
    {
     "data": {
      "text/plain": [
       "55"
      ]
     },
     "execution_count": 31,
     "metadata": {},
     "output_type": "execute_result"
    }
   ],
   "source": [
    "int(b, 2)"
   ]
  },
  {
   "cell_type": "code",
   "execution_count": 13,
   "metadata": {},
   "outputs": [
    {
     "ename": "TypeError",
     "evalue": "list indices must be integers or slices, not float",
     "output_type": "error",
     "traceback": [
      "\u001b[1;31m---------------------------------------------------------------------------\u001b[0m",
      "\u001b[1;31mTypeError\u001b[0m                                 Traceback (most recent call last)",
      "\u001b[1;32m<ipython-input-13-a0a54d64cde3>\u001b[0m in \u001b[0;36m<module>\u001b[1;34m()\u001b[0m\n\u001b[0;32m     47\u001b[0m \u001b[1;32mfor\u001b[0m \u001b[0mky\u001b[0m \u001b[1;32min\u001b[0m \u001b[0mrange\u001b[0m\u001b[1;33m(\u001b[0m\u001b[0mimgy\u001b[0m\u001b[1;33m)\u001b[0m\u001b[1;33m:\u001b[0m\u001b[1;33m\u001b[0m\u001b[0m\n\u001b[0;32m     48\u001b[0m     \u001b[1;32mfor\u001b[0m \u001b[0mkx\u001b[0m \u001b[1;32min\u001b[0m \u001b[0mrange\u001b[0m\u001b[1;33m(\u001b[0m\u001b[0mimgx\u001b[0m\u001b[1;33m)\u001b[0m\u001b[1;33m:\u001b[0m\u001b[1;33m\u001b[0m\u001b[0m\n\u001b[1;32m---> 49\u001b[1;33m         \u001b[0mpixels\u001b[0m\u001b[1;33m[\u001b[0m\u001b[0mint\u001b[0m\u001b[1;33m(\u001b[0m\u001b[0mkx\u001b[0m\u001b[1;33m)\u001b[0m\u001b[1;33m,\u001b[0m \u001b[0mint\u001b[0m\u001b[1;33m(\u001b[0m\u001b[0mky\u001b[0m\u001b[1;33m)\u001b[0m\u001b[1;33m]\u001b[0m \u001b[1;33m=\u001b[0m \u001b[0mcolor\u001b[0m\u001b[1;33m[\u001b[0m\u001b[0mmaze\u001b[0m\u001b[1;33m[\u001b[0m\u001b[0mmy\u001b[0m \u001b[1;33m*\u001b[0m \u001b[0mky\u001b[0m \u001b[1;33m/\u001b[0m \u001b[0mimgy\u001b[0m\u001b[1;33m]\u001b[0m\u001b[1;33m[\u001b[0m\u001b[0mmx\u001b[0m \u001b[1;33m*\u001b[0m \u001b[0mkx\u001b[0m \u001b[1;33m/\u001b[0m \u001b[0mimgx\u001b[0m\u001b[1;33m]\u001b[0m\u001b[1;33m]\u001b[0m\u001b[1;33m\u001b[0m\u001b[0m\n\u001b[0m\u001b[0;32m     50\u001b[0m \u001b[0mimage\u001b[0m\u001b[1;33m.\u001b[0m\u001b[0msave\u001b[0m\u001b[1;33m(\u001b[0m\u001b[1;34m\"Maze_\"\u001b[0m \u001b[1;33m+\u001b[0m \u001b[0mstr\u001b[0m\u001b[1;33m(\u001b[0m\u001b[0mmx\u001b[0m\u001b[1;33m)\u001b[0m \u001b[1;33m+\u001b[0m \u001b[1;34m\"x\"\u001b[0m \u001b[1;33m+\u001b[0m \u001b[0mstr\u001b[0m\u001b[1;33m(\u001b[0m\u001b[0mmy\u001b[0m\u001b[1;33m)\u001b[0m \u001b[1;33m+\u001b[0m \u001b[1;34m\".png\"\u001b[0m\u001b[1;33m,\u001b[0m \u001b[1;34m\"PNG\"\u001b[0m\u001b[1;33m)\u001b[0m\u001b[1;33m\u001b[0m\u001b[0m\n",
      "\u001b[1;31mTypeError\u001b[0m: list indices must be integers or slices, not float"
     ]
    }
   ],
   "source": [
    "# Random Maze Generator using Depth-first Search\n",
    "# http://en.wikipedia.org/wiki/Maze_generation_algorithm\n",
    "# FB36 - 20130106\n",
    "import random\n",
    "from PIL import Image\n",
    "imgx = 500; imgy = 500\n",
    "image = Image.new(\"RGB\", (imgx, imgy))\n",
    "pixels = image.load()\n",
    "mx = 100; my = 100 # width and height of the maze\n",
    "maze = [[0 for x in range(mx)] for y in range(my)]\n",
    "dx = [0, 1, 0, -1]; dy = [-1, 0, 1, 0] # 4 directions to move in the maze\n",
    "color = [(0, 0, 0), (255, 255, 255)] # RGB colors of the maze\n",
    "# start the maze from a random cell\n",
    "cx = int(random.randint(0, mx - 1)); cy = int(random.randint(0, my - 1))\n",
    "maze[cy][cx] = 1; stack = [(cx, cy, 0)] # stack element: (x, y, direction)\n",
    "\n",
    "while len(stack) > 0:\n",
    "    (cx, cy, cd) = stack[-1]\n",
    "    # to prevent zigzags:\n",
    "    # if changed direction in the last move then cannot change again\n",
    "    if len(stack) > 2:\n",
    "        if cd != stack[-2][2]: dirRange = [cd]\n",
    "        else: dirRange = range(4)\n",
    "    else: dirRange = range(4)\n",
    "\n",
    "    # find a new cell to add\n",
    "    nlst = [] # list of available neighbors\n",
    "    for i in dirRange:\n",
    "        nx = cx + dx[i]; ny = cy + dy[i]\n",
    "        if nx >= 0 and nx < mx and ny >= 0 and ny < my:\n",
    "            if maze[ny][nx] == 0:\n",
    "                ctr = 0 # of occupied neighbors must be 1\n",
    "                for j in range(4):\n",
    "                    ex = nx + dx[j]; ey = ny + dy[j]\n",
    "                    if ex >= 0 and ex < mx and ey >= 0 and ey < my:\n",
    "                        if maze[ey][ex] == 1: ctr += 1\n",
    "                if ctr == 1: nlst.append(i)\n",
    "\n",
    "    # if 1 or more neighbors available then randomly select one and move\n",
    "    if len(nlst) > 0:\n",
    "        ir = nlst[random.randint(0, len(nlst) - 1)]\n",
    "        cx += dx[ir]; cy += dy[ir]; maze[cy][cx] = 1\n",
    "        stack.append((cx, cy, ir))\n",
    "    else: stack.pop()\n",
    "\n",
    "# paint the maze\n",
    "for ky in range(imgy):\n",
    "    for kx in range(imgx):\n",
    "        pixels[int(kx), int(ky)] = color[maze[my * ky / imgy][mx * kx / imgx]]\n",
    "image.save(\"Maze_\" + str(mx) + \"x\" + str(my) + \".png\", \"PNG\")"
   ]
  },
  {
   "cell_type": "code",
   "execution_count": 76,
   "metadata": {
    "collapsed": true
   },
   "outputs": [],
   "source": [
    "a = None"
   ]
  },
  {
   "cell_type": "code",
   "execution_count": 80,
   "metadata": {},
   "outputs": [
    {
     "data": {
      "text/plain": [
       "False"
      ]
     },
     "execution_count": 80,
     "metadata": {},
     "output_type": "execute_result"
    }
   ],
   "source": [
    "a  != None"
   ]
  },
  {
   "cell_type": "code",
   "execution_count": 91,
   "metadata": {
    "collapsed": true
   },
   "outputs": [],
   "source": [
    "a =[10,13,7,9, 13]"
   ]
  },
  {
   "cell_type": "code",
   "execution_count": 92,
   "metadata": {},
   "outputs": [],
   "source": [
    "b = sorted(a, reverse=True)"
   ]
  },
  {
   "cell_type": "code",
   "execution_count": 93,
   "metadata": {},
   "outputs": [
    {
     "data": {
      "text/plain": [
       "[13, 13, 10, 9, 7]"
      ]
     },
     "execution_count": 93,
     "metadata": {},
     "output_type": "execute_result"
    }
   ],
   "source": [
    "b"
   ]
  },
  {
   "cell_type": "code",
   "execution_count": 94,
   "metadata": {
    "collapsed": true
   },
   "outputs": [],
   "source": [
    "c=[1,2,3,4,5]"
   ]
  },
  {
   "cell_type": "code",
   "execution_count": 95,
   "metadata": {},
   "outputs": [
    {
     "data": {
      "text/plain": [
       "13"
      ]
     },
     "execution_count": 95,
     "metadata": {},
     "output_type": "execute_result"
    }
   ],
   "source": [
    "b.pop(0)"
   ]
  },
  {
   "cell_type": "code",
   "execution_count": null,
   "metadata": {
    "collapsed": true
   },
   "outputs": [],
   "source": [
    "c.pop"
   ]
  },
  {
   "cell_type": "code",
   "execution_count": 96,
   "metadata": {},
   "outputs": [
    {
     "data": {
      "text/plain": [
       "[13, 10, 9, 7]"
      ]
     },
     "execution_count": 96,
     "metadata": {},
     "output_type": "execute_result"
    }
   ],
   "source": [
    "b"
   ]
  },
  {
   "cell_type": "code",
   "execution_count": null,
   "metadata": {
    "collapsed": true
   },
   "outputs": [],
   "source": [
    "# Prueba ejercicio 3\n",
    "pesos = [12,2,1,1,4]\n",
    "valores = [4,2,2,1,10]\n",
    "capacidad = 15\n",
    "castigo = 100\n",
    "fit_params ={'pesos':pesos, 'valores':valores, 'capacidad':capacidad, 'castigo':castigo}\n",
    "pop_sizes = [50*i for i in range(1,21)]\n",
    "mut_rates = [i/10 for i in range(11)]\n",
    "fit_fn = fitness_ex3 \n",
    "cr_genes = gene_factory_ex3\n",
    "cr_indv = indv_factory\n",
    "term_cond = {'max_fitness':36, 'iters':70} \n",
    "indv_chars = {}\n",
    "for i in range(len(pesos)):\n",
    "    aux_dict = {}\n",
    "    aux_dict['gene_type'] = int\n",
    "    aux_dict['fact_range'] = [0,15]\n",
    "    indv_chars[i] = aux_dict.copy()\n",
    "res = []\n",
    "for rt in mut_rates:    \n",
    "    mut_rate = rt\n",
    "    res_rt = []\n",
    "    for item in pop_sizes:\n",
    "        pop_sz_0 = item\n",
    "        GA = GENALG(pop_sz_0, fit_fn, cr_genes, cr_indv, mut_rate, term_cond, indv_chars)\n",
    "        slots=5\n",
    "        generations, goal_cross, overall_max_fitness, overall_fittest_indv = GA.apply(fit_params, slots)\n",
    "        res_rt.append(goal_cross)\n",
    "    res.append(res_rt[:])"
   ]
  }
 ],
 "metadata": {
  "kernelspec": {
   "display_name": "Python 3",
   "language": "python",
   "name": "python3"
  },
  "language_info": {
   "codemirror_mode": {
    "name": "ipython",
    "version": 3
   },
   "file_extension": ".py",
   "mimetype": "text/x-python",
   "name": "python",
   "nbconvert_exporter": "python",
   "pygments_lexer": "ipython3",
   "version": "3.6.3"
  }
 },
 "nbformat": 4,
 "nbformat_minor": 2
}
