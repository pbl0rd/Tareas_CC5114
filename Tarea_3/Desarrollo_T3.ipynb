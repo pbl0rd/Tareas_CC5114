{
 "cells": [
  {
   "cell_type": "code",
   "execution_count": 1,
   "metadata": {
    "collapsed": true
   },
   "outputs": [],
   "source": [
    "import numpy as np\n",
    "import matplotlib.pyplot as plt \n",
    "from arboles import *\n"
   ]
  },
  {
   "cell_type": "code",
   "execution_count": 2,
   "metadata": {
    "collapsed": true
   },
   "outputs": [],
   "source": [
    "Tnode = TerminalNode(5)"
   ]
  },
  {
   "cell_type": "code",
   "execution_count": 3,
   "metadata": {},
   "outputs": [
    {
     "data": {
      "text/plain": [
       "5"
      ]
     },
     "execution_count": 3,
     "metadata": {},
     "output_type": "execute_result"
    }
   ],
   "source": [
    "Tnode.eval()"
   ]
  },
  {
   "cell_type": "code",
   "execution_count": 4,
   "metadata": {},
   "outputs": [
    {
     "data": {
      "text/plain": [
       "5"
      ]
     },
     "execution_count": 4,
     "metadata": {},
     "output_type": "execute_result"
    }
   ],
   "source": [
    "Tnode\n"
   ]
  },
  {
   "cell_type": "code",
   "execution_count": 5,
   "metadata": {
    "collapsed": true
   },
   "outputs": [],
   "source": [
    "Tnode2 = TerminalNode(10)"
   ]
  },
  {
   "cell_type": "code",
   "execution_count": 6,
   "metadata": {},
   "outputs": [],
   "source": [
    "Maxnode = MaxNode(Tnode,Tnode2)"
   ]
  },
  {
   "cell_type": "code",
   "execution_count": 7,
   "metadata": {},
   "outputs": [
    {
     "data": {
      "text/plain": [
       "'max({5, 10})'"
      ]
     },
     "execution_count": 7,
     "metadata": {},
     "output_type": "execute_result"
    }
   ],
   "source": [
    "Maxnode.__repr__()"
   ]
  },
  {
   "cell_type": "code",
   "execution_count": 8,
   "metadata": {},
   "outputs": [
    {
     "data": {
      "text/plain": [
       "max({5, 10})"
      ]
     },
     "execution_count": 8,
     "metadata": {},
     "output_type": "execute_result"
    }
   ],
   "source": [
    "Maxnode"
   ]
  },
  {
   "cell_type": "code",
   "execution_count": 9,
   "metadata": {},
   "outputs": [
    {
     "data": {
      "text/plain": [
       "10"
      ]
     },
     "execution_count": 9,
     "metadata": {},
     "output_type": "execute_result"
    }
   ],
   "source": [
    "Maxnode.eval()"
   ]
  },
  {
   "cell_type": "code",
   "execution_count": 10,
   "metadata": {},
   "outputs": [],
   "source": [
    "l=Maxnode.serialize()"
   ]
  },
  {
   "cell_type": "markdown",
   "metadata": {},
   "source": [
    "## "
   ]
  },
  {
   "cell_type": "code",
   "execution_count": 11,
   "metadata": {},
   "outputs": [
    {
     "data": {
      "text/plain": [
       "10"
      ]
     },
     "execution_count": 11,
     "metadata": {},
     "output_type": "execute_result"
    }
   ],
   "source": [
    "l[2]"
   ]
  },
  {
   "cell_type": "code",
   "execution_count": 12,
   "metadata": {},
   "outputs": [
    {
     "data": {
      "text/plain": [
       "[arboles.AddNode, arboles.MultNode, arboles.SubNode]"
      ]
     },
     "execution_count": 12,
     "metadata": {},
     "output_type": "execute_result"
    }
   ],
   "source": [
    "[AddNode,MultNode,SubNode]"
   ]
  },
  {
   "cell_type": "code",
   "execution_count": null,
   "metadata": {},
   "outputs": [],
   "source": []
  },
  {
   "cell_type": "code",
   "execution_count": 13,
   "metadata": {},
   "outputs": [
    {
     "ename": "NameError",
     "evalue": "name 'AST' is not defined",
     "output_type": "error",
     "traceback": [
      "\u001b[1;31m---------------------------------------------------------------------------\u001b[0m",
      "\u001b[1;31mNameError\u001b[0m                                 Traceback (most recent call last)",
      "\u001b[1;32m<ipython-input-13-26d36d973d6e>\u001b[0m in \u001b[0;36m<module>\u001b[1;34m()\u001b[0m\n\u001b[1;32m----> 1\u001b[1;33m \u001b[0mAST\u001b[0m\u001b[1;33m(\u001b[0m\u001b[1;33m)\u001b[0m\u001b[1;33m\u001b[0m\u001b[0m\n\u001b[0m",
      "\u001b[1;31mNameError\u001b[0m: name 'AST' is not defined"
     ]
    }
   ],
   "source": [
    "AST()"
   ]
  },
  {
   "cell_type": "code",
   "execution_count": null,
   "metadata": {
    "collapsed": true
   },
   "outputs": [],
   "source": [
    "class A:\n",
    "    def __init__(self,x):\n",
    "        print('init')\n",
    "    def __call__(self):\n",
    "        print('call')"
   ]
  },
  {
   "cell_type": "code",
   "execution_count": null,
   "metadata": {},
   "outputs": [],
   "source": [
    "a= A(3)"
   ]
  },
  {
   "cell_type": "code",
   "execution_count": null,
   "metadata": {},
   "outputs": [],
   "source": [
    "a()"
   ]
  },
  {
   "cell_type": "code",
   "execution_count": null,
   "metadata": {},
   "outputs": [],
   "source": [
    "tree = AST(3)"
   ]
  },
  {
   "cell_type": "code",
   "execution_count": null,
   "metadata": {},
   "outputs": [],
   "source": [
    "tree.functions"
   ]
  },
  {
   "cell_type": "code",
   "execution_count": null,
   "metadata": {},
   "outputs": [],
   "source": [
    "tree.serialize()"
   ]
  },
  {
   "cell_type": "code",
   "execution_count": null,
   "metadata": {},
   "outputs": [],
   "source": [
    "tree()"
   ]
  },
  {
   "cell_type": "code",
   "execution_count": 14,
   "metadata": {
    "collapsed": true
   },
   "outputs": [],
   "source": [
    "class AST:\n",
    "    def __init__(self, allowed_functions, allowed_terminals, prob_terminal=0.3):\n",
    "        \n",
    "        # las funciones (nodos en nuestro caso) que nuestro programa puede tener\n",
    "        self.functions = allowed_functions\n",
    "        # los terminales admitidos en nuestro programa. Numeros por ejemplo\n",
    "        self.terminals = allowed_terminals\n",
    "        # para no tener un arbol infinitamente profundo, existe una posibilidad\n",
    "        # de que, a pesar de que ahora toque hacer otro sub arbol, que se ignore\n",
    "        # eso y se ponga un terminal en su lugar.\n",
    "        self.prob = prob_terminal\n",
    "\n",
    "    # esta funcion ya la hemos visto, nos permite llamar al AST como si fuera\n",
    "    # una funcion. max_depth es la produndidad que queremos tenga el arbol\n",
    "    def __call__(self, max_depth=10):\n",
    "        \n",
    "        # aqui tenemos una funcion auxiliar. Nos permitira hacer esto recursivo\n",
    "        def create_rec_tree(depth):\n",
    "            # si `depth` es mayor a 0, nos toca crear un sub-arbol\n",
    "            if depth > 0:\n",
    "                # elegimos una funcion aleatoriamente\n",
    "                node_cls = random.choice(self.functions)\n",
    "                # aqui iremos dejando los argumentos que necesita la funcion\n",
    "                arguments = []\n",
    "                # para cada argumento que la funcion necesite...\n",
    "                for _ in range(node_cls.num_args):\n",
    "                    # existe un `prob` probabilidad de que no sigamos creando\n",
    "                    # sub-arboles y lleguemos y cortemos aqui para hacer\n",
    "                    # un nodo terminal\n",
    "                    if random.random() < self.prob:\n",
    "                        arguments.append(create_rec_tree(0))\n",
    "                    else:\n",
    "                        # la otra es seguir creando sub-arboles recursivamente\n",
    "                        arguments.append(create_rec_tree(depth - 1))\n",
    "                \n",
    "                # `arguments` es una lista y los nodos necesitan argumentos\n",
    "                # asi que hacemos \"unpacking\" de la lista\n",
    "                return node_cls(*arguments)\n",
    "            else:\n",
    "                # si `depth` es 0 entonces creamos un nodo terminal con\n",
    "                # alguno de los terminales permitidos que definimos inicialmente\n",
    "                return TerminalNode(random.choice(self.terminals))\n",
    "\n",
    "        # llamamos a la funcion auxiliar para crear un arbol de profundidad `max_depth`\n",
    "        return create_rec_tree(max_depth)"
   ]
  },
  {
   "cell_type": "code",
   "execution_count": 15,
   "metadata": {},
   "outputs": [],
   "source": [
    "a = AST([AddNode,MultNode,SubNode],[1,2,3])"
   ]
  },
  {
   "cell_type": "code",
   "execution_count": 16,
   "metadata": {},
   "outputs": [],
   "source": [
    "from genetic_algorithm_mod import *"
   ]
  },
  {
   "cell_type": "code",
   "execution_count": 17,
   "metadata": {
    "collapsed": true
   },
   "outputs": [],
   "source": [
    "# Función para crear los genes de los individuos del ejercicio 1. Recibe 2 inputs:\n",
    "# - gene_type: Corresponde al tipo de gen (En este caso es un bit por lo tanto es 'binary' )\n",
    "# - fact_range: conjunto de valores posibles para un gen (En este caso los valores posibles son 0 o 1)\n",
    "# Retorna un gen del tipo especificado y dentro del rango especificado.\n",
    "def gene_factory_ex1(AST, indv_chars):\n",
    "    allowed_functions = indv_chars['allowed_functions']\n",
    "    allowed_terminals = indv_chars['allowed_terminals']\n",
    "    prob_terminal = indv_chars['prob_terminal']\n",
    "    factory = AST(allowed_functions, allowed_terminals, prob_terminal)    \n",
    "    return factory\n",
    "\n",
    "# Función para crear los individuos. Recibe 2 inputs:\n",
    "# - Función creadora de genes: descrita arriba.\n",
    "# - Diccionario caracterizando al individuo: diccionario que para cada gen del individuo contiene la información del\n",
    "#   tipo de gen y del conjunto de valores posibles para ese gen\n",
    "# Retorna un individuo adecuado para el problema.\n",
    "def indv_factory(gene_factory_ex1, indv_chars): \n",
    "    factory = gene_factory_ex1(AST, indv_chars)\n",
    "    max_depth = indv_chars['max_depth']\n",
    "    new_indv = factory(max_depth)   \n",
    "    return new_indv.copy()  # retornamos el individuo creado\n",
    "\n",
    "\n",
    "# Función de fitness para el ejercicio 1. Recibe a un individuo y un diccionario con la secuencia y un ponderador.\n",
    "# Retorna la multiplicación del ponderador y el valor absoluto de la diferencia entre el número entero que representa\n",
    "# la secuencia entregada y el número entero que representa la secuencia del individuo.\n",
    "def fitness_ex1(indv, objective):\n",
    "    val = indv.eval()    \n",
    "    fitness = objective['ponderador'] * abs(objective['secuencia'] - val)\n",
    "    return -fitness"
   ]
  },
  {
   "cell_type": "code",
   "execution_count": 20,
   "metadata": {},
   "outputs": [
    {
     "name": "stdout",
     "output_type": "stream",
     "text": [
      "-0.003\n",
      "((((((5 + (3 - 5)) + ((((5 + (5 + 3)) + ((5 - 3) * 2)) * (((5 - 5) + (3 + 2)) + (3 * 2))) - (((((5 + (3 - 5)) * ((5 + 2) * (3 - ((2 - 5) + (3 + ((5 + (5 + 3)) + ((5 - 3) * 2))))))) + (5 - 5)) * ((5 + 2) * (3 - 5))) * (((2 - 2) * 3) * 3)))) * ((((((5 - 2) * (3 + 2)) - ((3 * 3) + (3 * 3))) - (3 - ((3 + 5) * (5 + 2)))) - 5) * 2)) - (3 - 5)) * (2 + 2)) - (((((((5 + (5 + 3)) + ((5 - 3) * 2)) * (((5 - 5) + (3 + ((5 + (5 + 3)) + (5 * 2)))) + (3 * 2))) - 5) + (((((5 + (5 + 3)) + ((5 - 3) * 2)) * (((5 - 5) + (5 + ((5 + (5 + 3)) + ((5 - 3) * 2)))) + (3 * 2))) - ((((((3 * 2) + 3) * (3 - ((3 + 5) * (5 + (5 - 3))))) + (((5 + (3 - 5)) + ((((5 + (5 + 3)) + ((5 - 3) * ((2 - 2) * (5 + 2)))) * (((5 - 5) + (3 + 2)) + (3 * 2))) - (((((5 + (3 - 5)) * (2 * ((3 + ((5 + (5 + 2)) + ((5 - 3) * 2))) - ((2 - 5) + (3 + ((5 + (5 + 2)) + ((5 - 3) * 2))))))) + (3 - 5)) * ((5 + 2) * (3 - 5))) * ((((5 - 5) + (3 + 2)) * 3) * 3)))) * ((((((5 - 2) * (3 + 2)) - ((3 * 3) + (3 * 3))) - (3 - 5)) - 5) * 2))) * (3 + 2)) * (((2 - 2) * (5 + 2)) * 3))) + (3 * 2))) * 3) + 2))\n",
      "gráfico 1 listo\n"
     ]
    }
   ],
   "source": [
    "# Prueba ejercicio 1\n",
    "# Seteamos los parametros a ser ocupados por el algoritmo para obtener los gráficos pedidos\n",
    "secuencia_bits = 65346\n",
    "ponderador = 1/10000 \n",
    "fit_params = {'secuencia': secuencia_bits, 'ponderador': ponderador}\n",
    "pop_sz_0 = 10\n",
    "fit_fn = fitness_ex1\n",
    "cr_genes = gene_factory_ex1\n",
    "cr_indv = indv_factory\n",
    "mut_rate = 0.1\n",
    "term_cond = {'type': 'iterations', 'fitness_th': 0, 'iters': 100}\n",
    "selection_type = 'tournament'\n",
    "slots = 4\n",
    "elitism_rate = 0.0\n",
    "random_state = 42\n",
    "indv_chars = {}\n",
    "indv_chars['allowed_functions']=[AddNode,MultNode,SubNode]\n",
    "indv_chars['allowed_terminals']= [2,3,5]\n",
    "indv_chars['prob_terminal'] =0.3\n",
    "indv_chars['max_depth']=10\n",
    "GA = GENALG(pop_sz_0, fit_fn, cr_genes, cr_indv, indv_chars, term_cond, mut_rate, elitism_rate)\n",
    "generations, goal_cross, overall_max_fitness, overall_fittest_indv = GA.apply(fit_params, selection_type,random_state, slots)\n",
    "print(overall_max_fitness)\n",
    "print(overall_fittest_indv)\n",
    "# Obtener visualización de Evolución de fitness por generación sin elitismo\n",
    "x = list(generations.keys())\n",
    "vals = list(generations.values())\n",
    "max_fit = [item['max_fitness'] for item in vals]\n",
    "mean_fit = [item['mean_fitness'] for item in vals]\n",
    "min_fit = [item['min_fitness'] for item in vals]\n",
    "fig = plt.figure(figsize=(15, 15))\n",
    "plt.plot(x, max_fit, marker='o', markerfacecolor='green', markersize=5, color='olive', linewidth=2, label='max_fit')\n",
    "plt.plot(x, mean_fit, marker='', color='blue', linewidth=2, label='mean_fit')\n",
    "plt.plot(x, min_fit, marker='', color='red', linewidth=2, label='min_fit')\n",
    "plt.title(\"Evolución de fitness por generación\", fontsize=16, fontweight='bold')\n",
    "plt.suptitle(\"Secuencia de bits\", fontsize=20)\n",
    "plt.xlabel(\"Generación\", fontsize=15)\n",
    "plt.ylabel(\"Fitness\", fontsize=15)\n",
    "plt.legend(fontsize=15)\n",
    "plt.savefig('Images\\Fitness_por_Generacion_EX1.png')\n",
    "plt.close()\n",
    "print('gráfico 1 listo')"
   ]
  },
  {
   "cell_type": "code",
   "execution_count": null,
   "metadata": {},
   "outputs": [],
   "source": [
    "np.random.choice([1,2,3])"
   ]
  },
  {
   "cell_type": "code",
   "execution_count": null,
   "metadata": {
    "collapsed": true
   },
   "outputs": [],
   "source": []
  }
 ],
 "metadata": {
  "kernelspec": {
   "display_name": "Python 3",
   "language": "python",
   "name": "python3"
  },
  "language_info": {
   "codemirror_mode": {
    "name": "ipython",
    "version": 3
   },
   "file_extension": ".py",
   "mimetype": "text/x-python",
   "name": "python",
   "nbconvert_exporter": "python",
   "pygments_lexer": "ipython3",
   "version": "3.6.3"
  }
 },
 "nbformat": 4,
 "nbformat_minor": 2
}
